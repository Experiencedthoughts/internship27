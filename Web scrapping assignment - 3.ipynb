{
 "cells": [
  {
   "cell_type": "code",
   "execution_count": null,
   "id": "186d7214",
   "metadata": {},
   "outputs": [],
   "source": [
    "!pip install selenium"
   ]
  },
  {
   "cell_type": "code",
   "execution_count": null,
   "id": "f43fe33a",
   "metadata": {},
   "outputs": [],
   "source": [
    "import selenium\n",
    "import pandas as pd\n",
    "from selenium import webdriver\n",
    "import warnings\n",
    "warnings.filterwarnings('ignore')\n",
    "import time"
   ]
  },
  {
   "cell_type": "code",
   "execution_count": null,
   "id": "dd511d7a",
   "metadata": {},
   "outputs": [],
   "source": [
    "driver=webdriver.Chrome(\"chromedriver.exe\")"
   ]
  },
  {
   "cell_type": "code",
   "execution_count": null,
   "id": "603f90d7",
   "metadata": {},
   "outputs": [],
   "source": [
    "#opening up amazon.com\n",
    "driver.get(\"https://www.amazon.in/\")"
   ]
  },
  {
   "cell_type": "code",
   "execution_count": null,
   "id": "da369cd3",
   "metadata": {},
   "outputs": [],
   "source": [
    "search_field_tags=driver.find_element_by_xpath(\"/html/body/div[1]/header/div/div[1]/div[2]/div/form/div[2]/div[1]/input\")\n",
    "search_field_tags.send_keys(\"sunglasses\")"
   ]
  },
  {
   "cell_type": "code",
   "execution_count": null,
   "id": "d4cdc365",
   "metadata": {},
   "outputs": [],
   "source": [
    "search_button_tags=driver.find_element_by_xpath(\"/html/body/div[1]/header/div/div[1]/div[2]/div/form/div[3]/div/span/input\")\n",
    "search_button_tags.click()"
   ]
  },
  {
   "cell_type": "code",
   "execution_count": null,
   "id": "9716dac4",
   "metadata": {},
   "outputs": [],
   "source": [
    "brand_list1=[]\n",
    "brand_list2=[]\n",
    "brand_list3=[]"
   ]
  },
  {
   "cell_type": "code",
   "execution_count": null,
   "id": "4b8765fe",
   "metadata": {},
   "outputs": [],
   "source": [
    "brand_tags1=driver.find_elements_by_xpath(\"//span[@class='a-size-base-plus a-color-base']\")\n",
    "brand_tags1[0:60]"
   ]
  },
  {
   "cell_type": "code",
   "execution_count": null,
   "id": "c7de5237",
   "metadata": {},
   "outputs": [],
   "source": [
    "for i in brand_tags1:\n",
    "    brand_name1=i.text\n",
    "    brand_list1.append(brand_name1)\n",
    "brand_list1[0:60]"
   ]
  },
  {
   "cell_type": "code",
   "execution_count": null,
   "id": "de20e516",
   "metadata": {},
   "outputs": [],
   "source": [
    "next_button2=driver.find_element_by_xpath(\"/html/body/div[1]/div[2]/div[1]/div[1]/div/span[3]/div[2]/div[69]/div/div/span/a[1]\")\n",
    "next_button2.click()\n",
    "time.sleep(5)"
   ]
  },
  {
   "cell_type": "code",
   "execution_count": null,
   "id": "5c09da8c",
   "metadata": {},
   "outputs": [],
   "source": [
    "brand_name2_tags=driver.find_elements_by_xpath(\"//span[@class='a-size-base-plus a-color-base']\")\n",
    "brand_name2_tags[0:60]"
   ]
  },
  {
   "cell_type": "code",
   "execution_count": null,
   "id": "f4350cdf",
   "metadata": {},
   "outputs": [],
   "source": [
    "for i in brand_name2_tags:\n",
    "    brand_name2=i.text\n",
    "    brand_list2.append(brand_name2)\n",
    "brand_list2"
   ]
  },
  {
   "cell_type": "code",
   "execution_count": null,
   "id": "a1586b61",
   "metadata": {},
   "outputs": [],
   "source": [
    "next_button3=driver.find_element_by_xpath(\"/html/body/div[1]/div[2]/div[1]/div[1]/div/span[3]/div[2]/div[66]/div/div/span/a[3]\")\n",
    "next_button3.click()\n",
    "time.sleep(5)"
   ]
  },
  {
   "cell_type": "code",
   "execution_count": null,
   "id": "8ee74431",
   "metadata": {},
   "outputs": [],
   "source": [
    "brand_name3_tags=driver.find_elements_by_xpath(\"//span[@class='a-size-base-plus a-color-base']\")\n",
    "brand_name3_tags[0:60]"
   ]
  },
  {
   "cell_type": "code",
   "execution_count": null,
   "id": "b3b7bb08",
   "metadata": {},
   "outputs": [],
   "source": [
    "for i in brand_name3_tags:\n",
    "    brand_name3=i.text\n",
    "    brand_list3.append(brand_name3)\n",
    "brand_list3[0:60]"
   ]
  },
  {
   "cell_type": "code",
   "execution_count": null,
   "id": "80e78719",
   "metadata": {},
   "outputs": [],
   "source": [
    "product_list1=[]\n",
    "product_list2=[]\n",
    "product_list3=[]"
   ]
  },
  {
   "cell_type": "code",
   "execution_count": null,
   "id": "bbe11895",
   "metadata": {},
   "outputs": [],
   "source": [
    "next_button1=driver.find_element_by_xpath(\"/html/body/div[1]/div[2]/div[1]/div[1]/div/span[3]/div[2]/div[66]/div/div/span/a[2]\")\n",
    "next_button1.click()\n",
    "time.sleep(5)"
   ]
  },
  {
   "cell_type": "code",
   "execution_count": null,
   "id": "bef617c0",
   "metadata": {},
   "outputs": [],
   "source": [
    "product_tags1=driver.find_elements_by_xpath(\"//span[@class='a-size-base-plus a-color-base a-text-normal']\")\n",
    "product_tags1[0:60]"
   ]
  },
  {
   "cell_type": "code",
   "execution_count": null,
   "id": "8b629e8d",
   "metadata": {},
   "outputs": [],
   "source": [
    "for i in product_tags1:\n",
    "    product_name1=i.text\n",
    "    product_list1.append(product_name1)\n",
    "product_list1[0:60]"
   ]
  },
  {
   "cell_type": "code",
   "execution_count": null,
   "id": "1497e492",
   "metadata": {},
   "outputs": [],
   "source": [
    "next_button2=driver.find_element_by_xpath(\"/html/body/div[1]/div[2]/div[1]/div[1]/div/span[3]/div[2]/div[69]/div/div/span/a[1]\")\n",
    "next_button2.click()\n",
    "time.sleep(5)"
   ]
  },
  {
   "cell_type": "code",
   "execution_count": null,
   "id": "070c4e3c",
   "metadata": {},
   "outputs": [],
   "source": [
    "product_tags2=driver.find_elements_by_xpath(\"//span[@class='a-size-base-plus a-color-base a-text-normal']\")\n",
    "product_tags2[0:60]"
   ]
  },
  {
   "cell_type": "code",
   "execution_count": null,
   "id": "50994041",
   "metadata": {},
   "outputs": [],
   "source": [
    "for i in product_tags2:\n",
    "    product_name2=i.text\n",
    "    product_list2.append(product_name2)\n",
    "product_list2[0:60]"
   ]
  },
  {
   "cell_type": "code",
   "execution_count": null,
   "id": "cf2df107",
   "metadata": {},
   "outputs": [],
   "source": [
    "next_button3=driver.find_element_by_xpath(\"/html/body/div[1]/div[2]/div[1]/div[1]/div/span[3]/div[2]/div[66]/div/div/span/a[3]\")\n",
    "next_button3.click()\n",
    "time.sleep(5)"
   ]
  },
  {
   "cell_type": "code",
   "execution_count": null,
   "id": "c6ad98b3",
   "metadata": {},
   "outputs": [],
   "source": [
    "product_tags3=driver.find_elements_by_xpath(\"//span[@class='a-size-base-plus a-color-base a-text-normal']\")\n",
    "product_tags3[0:60]"
   ]
  },
  {
   "cell_type": "code",
   "execution_count": null,
   "id": "37cbd858",
   "metadata": {},
   "outputs": [],
   "source": [
    "for i in product_tags3:\n",
    "    product_name3=i.text\n",
    "    product_list3.append(product_name3)\n",
    "product_list3[0:60]"
   ]
  },
  {
   "cell_type": "code",
   "execution_count": null,
   "id": "b003ad14",
   "metadata": {},
   "outputs": [],
   "source": [
    "price_list1=[]\n",
    "price_list2=[]\n",
    "price_list3=[]"
   ]
  },
  {
   "cell_type": "code",
   "execution_count": null,
   "id": "534bc9cf",
   "metadata": {},
   "outputs": [],
   "source": [
    "next_button1=driver.find_element_by_xpath(\"/html/body/div[1]/div[2]/div[1]/div[1]/div/span[3]/div[2]/div[66]/div/div/span/a[3]\")\n",
    "next_button1.click()\n",
    "time.sleep(5)"
   ]
  },
  {
   "cell_type": "code",
   "execution_count": null,
   "id": "54cffc68",
   "metadata": {},
   "outputs": [],
   "source": [
    "price_tags1=driver.find_elements_by_xpath(\"//span[@class='a-price-whole']\")\n",
    "price_tags1[0:60]"
   ]
  },
  {
   "cell_type": "code",
   "execution_count": null,
   "id": "dc7760a2",
   "metadata": {},
   "outputs": [],
   "source": [
    "for i in price_tags1:\n",
    "    price_name=i.text\n",
    "    price_list1.append(price_name)\n",
    "price_list1[0:60]"
   ]
  },
  {
   "cell_type": "code",
   "execution_count": null,
   "id": "ba99cd68",
   "metadata": {},
   "outputs": [],
   "source": [
    "next_button2=driver.find_element_by_xpath(\"/html/body/div[1]/div[2]/div[1]/div[1]/div/span[3]/div[2]/div[66]/div/div/span/a[1]\")\n",
    "next_button2.click()\n",
    "time.sleep(7)"
   ]
  },
  {
   "cell_type": "code",
   "execution_count": null,
   "id": "a6d81ad5",
   "metadata": {},
   "outputs": [],
   "source": [
    "price_tags2=driver.find_elements_by_xpath(\"//span[@class='a-price-whole']\")\n",
    "price_tags2[0:60]"
   ]
  },
  {
   "cell_type": "code",
   "execution_count": null,
   "id": "f1b347ba",
   "metadata": {},
   "outputs": [],
   "source": [
    "for i in price_tags2:\n",
    "    price_name2=i.text\n",
    "    price_list2.append(price_name2)\n",
    "price_list2[0:60]"
   ]
  },
  {
   "cell_type": "code",
   "execution_count": null,
   "id": "7ddb0146",
   "metadata": {},
   "outputs": [],
   "source": [
    "next_button3=driver.find_element_by_xpath(\"/html/body/div[1]/div[2]/div[1]/div[1]/div/span[3]/div[2]/div[69]/div/div/span/a[2]\")\n",
    "next_button3.click()"
   ]
  },
  {
   "cell_type": "code",
   "execution_count": null,
   "id": "340a81fd",
   "metadata": {},
   "outputs": [],
   "source": [
    "price_tags3=driver.find_elements_by_xpath(\"//span[@class='a-price-whole']\")\n",
    "price_tags3[0:60]"
   ]
  },
  {
   "cell_type": "code",
   "execution_count": null,
   "id": "e366f8ad",
   "metadata": {},
   "outputs": [],
   "source": [
    "for i in price_tags3:\n",
    "    price_name3=i.text\n",
    "    price_list3.append(price_name3)\n",
    "price_list3[0:60]"
   ]
  },
  {
   "cell_type": "code",
   "execution_count": null,
   "id": "b04719c1",
   "metadata": {},
   "outputs": [],
   "source": [
    "url_list1=[]\n",
    "url_list2=[]\n",
    "url_list3=[]"
   ]
  },
  {
   "cell_type": "code",
   "execution_count": null,
   "id": "cdea0b7c",
   "metadata": {},
   "outputs": [],
   "source": [
    "next_button1=driver.find_element_by_xpath(\"/html/body/div[1]/div[2]/div[1]/div[1]/div/span[3]/div[2]/div[66]/div/div/span/a[2]\")\n",
    "time.sleep(7)"
   ]
  },
  {
   "cell_type": "code",
   "execution_count": null,
   "id": "2a2ab669",
   "metadata": {},
   "outputs": [],
   "source": [
    "url_tags1=driver.find_elements_by_xpath(\"//a[@class='a-link-normal s-underline-text s-underline-link-text s-link-style a-text-normal']\")\n",
    "url_tags1[0:60]"
   ]
  },
  {
   "cell_type": "code",
   "execution_count": null,
   "id": "72fbaf28",
   "metadata": {},
   "outputs": [],
   "source": [
    "for i in url_tags1[0:60]:\n",
    "    print(i.get_attribute('href'))"
   ]
  },
  {
   "cell_type": "code",
   "execution_count": null,
   "id": "76016439",
   "metadata": {},
   "outputs": [],
   "source": [
    "next_button2=driver.find_element_by_xpath(\"/html/body/div[1]/div[2]/div[1]/div[1]/div/span[3]/div[2]/div[66]/div/div/span/a[3]\")\n",
    "next_button2.click()\n",
    "time.sleep(5)"
   ]
  },
  {
   "cell_type": "code",
   "execution_count": null,
   "id": "1ff79f4c",
   "metadata": {},
   "outputs": [],
   "source": [
    "url_tags2=driver.find_elements_by_xpath(\"//a[@class='a-link-normal s-underline-text s-underline-link-text s-link-style a-text-normal']\")\n",
    "url_tags2[0:60]"
   ]
  },
  {
   "cell_type": "code",
   "execution_count": null,
   "id": "15487f6f",
   "metadata": {},
   "outputs": [],
   "source": [
    "for i in url_tags2[0:60]:\n",
    "    print(i.get_attribute('href'))"
   ]
  },
  {
   "cell_type": "code",
   "execution_count": null,
   "id": "0ee78d7b",
   "metadata": {},
   "outputs": [],
   "source": [
    "next_button3=driver.find_element_by_xpath(\"/html/body/div[1]/div[2]/div[1]/div[1]/div/span[3]/div[2]/div[66]/div/div/span/a[3]\")\n",
    "next_button3.click()\n",
    "time.sleep(7)"
   ]
  },
  {
   "cell_type": "code",
   "execution_count": null,
   "id": "9f221080",
   "metadata": {},
   "outputs": [],
   "source": [
    "url_tags3=driver.find_elements_by_xpath(\"//a[@class='a-link-normal s-underline-text s-underline-link-text s-link-style a-text-normal']\")\n",
    "url_tags3[0:60]"
   ]
  },
  {
   "cell_type": "code",
   "execution_count": null,
   "id": "03d5d0bb",
   "metadata": {},
   "outputs": [],
   "source": [
    "for i in url_tags3[0:60]:\n",
    "    print(i.get_attribute('href'))"
   ]
  },
  {
   "cell_type": "code",
   "execution_count": null,
   "id": "e2f5d8b5",
   "metadata": {},
   "outputs": [],
   "source": [
    "print(len(url_list1))\n",
    "print(len(url_list2))"
   ]
  },
  {
   "cell_type": "code",
   "execution_count": null,
   "id": "0898e60f",
   "metadata": {},
   "outputs": [],
   "source": [
    "dfa=pd.DataFrame({})\n",
    "dfa['Brand Name']=brand_list1[0:60]\n",
    "dfa['Product Name']=product_list1[0:60]\n",
    "dfa['Price']=price_list1[0:60]"
   ]
  },
  {
   "cell_type": "code",
   "execution_count": null,
   "id": "a42cb0d2",
   "metadata": {},
   "outputs": [],
   "source": [
    "dfb=pd.DataFrame({})\n",
    "dfb['Brand Name']=brand_list2[0:60]\n",
    "dfb['Product Name']=product_list2[0:60]\n",
    "dfb['Price']=price_list2[0:60]"
   ]
  },
  {
   "cell_type": "code",
   "execution_count": null,
   "id": "1395fd1b",
   "metadata": {},
   "outputs": [],
   "source": [
    "dfc=pd.DataFrame({})\n",
    "dfc['Brand Name']=brand_list3[0:60]\n",
    "dfc['Product Name']=product_list3[0:60]\n",
    "dfc['Price']=price_list3[0:60]"
   ]
  },
  {
   "cell_type": "code",
   "execution_count": null,
   "id": "7c2fa47a",
   "metadata": {},
   "outputs": [],
   "source": [
    "driver.close()"
   ]
  },
  {
   "cell_type": "markdown",
   "id": "0b36763f",
   "metadata": {},
   "source": [
    "# Python program to access the search bar and search button on images.google.com and scrape 10 images each for keywords ‘fruits’, ‘cars’ and ‘Machine Learning’, ‘Guitar’, ‘Cakes’."
   ]
  },
  {
   "cell_type": "code",
   "execution_count": null,
   "id": "94d99626",
   "metadata": {},
   "outputs": [],
   "source": [
    "import selenium\n",
    "import pandas as pd\n",
    "from selenium import webdriver\n",
    "import warnings\n",
    "warnings.filterwarnings('ignore')\n",
    "import time\n",
    "import requests\n",
    "from bs4 import BeautifulSoup"
   ]
  },
  {
   "cell_type": "code",
   "execution_count": null,
   "id": "8dd5f47c",
   "metadata": {},
   "outputs": [],
   "source": [
    "driver=webdriver.Chrome(\"chromedriver.exe\")\n",
    "time.sleep(2)"
   ]
  },
  {
   "cell_type": "code",
   "execution_count": null,
   "id": "545f42c7",
   "metadata": {},
   "outputs": [],
   "source": [
    "# opening up images.google.com\n",
    "driver.get(\"https://images.google.com\")"
   ]
  },
  {
   "cell_type": "code",
   "execution_count": null,
   "id": "c08d0728",
   "metadata": {},
   "outputs": [],
   "source": [
    "search_field_designation=driver.find_element_by_xpath(\"/html/body/div[1]/div[3]/form/div[1]/div[1]/div[1]/div/div[2]/input\")\n",
    "search_field_designation.send_keys(\"fruits\")"
   ]
  },
  {
   "cell_type": "code",
   "execution_count": null,
   "id": "49f9bc9a",
   "metadata": {},
   "outputs": [],
   "source": [
    "search_button=driver.find_element_by_xpath(\"/html/body/div[1]/div[3]/form/div[1]/div[1]/div[1]/button/div/span\")\n",
    "search_button.click()"
   ]
  },
  {
   "cell_type": "code",
   "execution_count": null,
   "id": "7e292f09",
   "metadata": {},
   "outputs": [],
   "source": [
    "Fruits=[]\n",
    "Cars=[]\n",
    "Machinelearning=[]\n",
    "Guitar=[]\n",
    "Cakes=[]"
   ]
  },
  {
   "cell_type": "code",
   "execution_count": null,
   "id": "11d9c75b",
   "metadata": {},
   "outputs": [],
   "source": [
    "# 20 time we scroll down by 100 inorder to generate more images on the website\n",
    "for _ in range(20):\n",
    "    driver.execute_script(\"window.scrollBy(0,1000)\")\n",
    "    \n",
    "images=driver.find_elements_by_xpath(\"//img[@class='rg_i Q4LuWd']\")\n",
    "\n",
    "img_urls=[]\n",
    "img_data=[]"
   ]
  },
  {
   "cell_type": "code",
   "execution_count": null,
   "id": "82d3859a",
   "metadata": {},
   "outputs": [],
   "source": [
    "for img in images:\n",
    "    source=img.get_attribute('src')\n",
    "    if source is not None:\n",
    "        if(source[0:4]=='https'):\n",
    "            img_urls.append(source)"
   ]
  },
  {
   "cell_type": "code",
   "execution_count": null,
   "id": "11c5253f",
   "metadata": {},
   "outputs": [],
   "source": [
    "for i in range(len(img_urls)):\n",
    "    if i>10:\n",
    "        break\n",
    "    print(\"Downloading{0}of{1}images\" .format(i,10))\n",
    "    response=requests.get(img_urls[i])\n",
    "    file=open(r\"C:\\Users\\LENOVO\\Images\"+str(i)+\".jpg\",\"wb\")\n",
    "    file.write(response.content)"
   ]
  },
  {
   "cell_type": "markdown",
   "id": "4b05f87f",
   "metadata": {},
   "source": [
    "# Python program to search for a smartphone on www.flipkart.com and scrape following details for all the search"
   ]
  },
  {
   "cell_type": "code",
   "execution_count": null,
   "id": "85c2e69c",
   "metadata": {},
   "outputs": [],
   "source": [
    "import selenium \n",
    "import pandas as pd\n",
    "from selenium import webdriver\n",
    "import warnings\n",
    "warnings.filterwarnings('ignore')\n",
    "import time"
   ]
  },
  {
   "cell_type": "code",
   "execution_count": null,
   "id": "3d9235f8",
   "metadata": {},
   "outputs": [],
   "source": [
    "driver=webdriver.Chrome(\"chromedriver.exe\")\n",
    "time.sleep(5)"
   ]
  },
  {
   "cell_type": "code",
   "execution_count": null,
   "id": "ed32d276",
   "metadata": {},
   "outputs": [],
   "source": [
    "driver.get(\"https://www.flipkart.com\")"
   ]
  },
  {
   "cell_type": "code",
   "execution_count": null,
   "id": "7aa541e9",
   "metadata": {},
   "outputs": [],
   "source": [
    "search_field_designation=driver.find_element_by_xpath(\"/html/body/div[1]/div/div[1]/div[1]/div[2]/div[2]/form/div/div/input\")\n",
    "search_field_designation.send_keys(\"Samsung Smartphones\")"
   ]
  },
  {
   "cell_type": "code",
   "execution_count": null,
   "id": "911edcae",
   "metadata": {},
   "outputs": [],
   "source": [
    "search_button=driver.find_element_by_xpath(\"/html/body/div[1]/div/div[1]/div[1]/div[2]/div[2]/form/div/button\")\n",
    "search_button.click()\n",
    "time.sleep(5)"
   ]
  },
  {
   "cell_type": "code",
   "execution_count": null,
   "id": "c96d1fbb",
   "metadata": {},
   "outputs": [],
   "source": [
    "brandnamelist=[]\n",
    "descrp_list=[]\n",
    "pricelist=[]\n",
    "urllist=[]"
   ]
  },
  {
   "cell_type": "code",
   "execution_count": null,
   "id": "aee7917d",
   "metadata": {},
   "outputs": [],
   "source": [
    "brandname_tags=driver.find_elements_by_xpath(\"//div[@class='_4rR01T']\")\n",
    "brandname_tags[0:23]"
   ]
  },
  {
   "cell_type": "code",
   "execution_count": null,
   "id": "17be7a1f",
   "metadata": {},
   "outputs": [],
   "source": [
    "for i in brandname_tags:\n",
    "    brandname=i.text\n",
    "    brandnamelist.append(brandname)\n",
    "brandnamelist[0:23]"
   ]
  },
  {
   "cell_type": "code",
   "execution_count": null,
   "id": "c7844e7d",
   "metadata": {},
   "outputs": [],
   "source": [
    "descrptags=driver.find_elements_by_xpath(\"//div[@class='fMghEO']\")\n",
    "descrptags[0:23]"
   ]
  },
  {
   "cell_type": "code",
   "execution_count": null,
   "id": "ffafcf99",
   "metadata": {},
   "outputs": [],
   "source": [
    "for i in descrptags:\n",
    "    descrp=i.text\n",
    "    descrp_list.append(descrp)\n",
    "descrp_list[0:23]"
   ]
  },
  {
   "cell_type": "code",
   "execution_count": null,
   "id": "c0c5ae5f",
   "metadata": {},
   "outputs": [],
   "source": [
    "price_tags=driver.find_elements_by_xpath(\"//div[@class='_30jeq3 _1_WHN1']\")\n",
    "price_tags[0:23]"
   ]
  },
  {
   "cell_type": "code",
   "execution_count": null,
   "id": "ed9cb100",
   "metadata": {},
   "outputs": [],
   "source": [
    "for i in price_tags:\n",
    "    price=i.text\n",
    "    pricelist.append(price)\n",
    "pricelist[0:23]"
   ]
  },
  {
   "cell_type": "code",
   "execution_count": null,
   "id": "0c13b925",
   "metadata": {},
   "outputs": [],
   "source": [
    "# fetching url to open each job\n",
    "url_tags=driver.find_elements_by_xpath(\"//a[@class='_1fQZEK']\")\n",
    "url_tags[0:24]"
   ]
  },
  {
   "cell_type": "code",
   "execution_count": null,
   "id": "3d226ddf",
   "metadata": {},
   "outputs": [],
   "source": [
    "for i in url_tags:\n",
    "    urllist.append(i.get_attribute(r'href'))"
   ]
  },
  {
   "cell_type": "code",
   "execution_count": null,
   "id": "13ed67e4",
   "metadata": {},
   "outputs": [],
   "source": [
    "urllist[0:23]"
   ]
  },
  {
   "cell_type": "code",
   "execution_count": null,
   "id": "56bc22c2",
   "metadata": {},
   "outputs": [],
   "source": [
    "# printing length\n",
    "print(len(brandnamelist),len(descrp_list),len(pricelist),len(urllist))"
   ]
  },
  {
   "cell_type": "code",
   "execution_count": null,
   "id": "9fa05512",
   "metadata": {},
   "outputs": [],
   "source": [
    "# Making DataFrame\n",
    "df=pd.DataFrame({'Brand name':brandnamelist,'Descrpition':descrp_list,'Price':pricelist,'Url':urllist})"
   ]
  },
  {
   "cell_type": "code",
   "execution_count": null,
   "id": "301920bc",
   "metadata": {},
   "outputs": [],
   "source": [
    "df"
   ]
  },
  {
   "cell_type": "code",
   "execution_count": null,
   "id": "01dff44f",
   "metadata": {},
   "outputs": [],
   "source": []
  },
  {
   "cell_type": "markdown",
   "id": "ecae0762",
   "metadata": {},
   "source": [
    "# Python program to scrape the details for all billionaires from forbes.com details to be scrapped: “Rank”, “Name”, “Net worth”, “Age”, “Citizenship”, “Source”, “Industry”."
   ]
  },
  {
   "cell_type": "code",
   "execution_count": null,
   "id": "b983f976",
   "metadata": {},
   "outputs": [],
   "source": [
    "import selenium \n",
    "import pandas as pd\n",
    "from selenium import webdriver\n",
    "import warnings\n",
    "warnings.filterwarnings('ignore')\n",
    "import time"
   ]
  },
  {
   "cell_type": "code",
   "execution_count": null,
   "id": "a0cf2bdf",
   "metadata": {},
   "outputs": [],
   "source": [
    "driver=webdriver.Chrome(\"chromedriver.exe\")"
   ]
  },
  {
   "cell_type": "code",
   "execution_count": null,
   "id": "5a297904",
   "metadata": {},
   "outputs": [],
   "source": [
    "driver.get(\"https://www.forbes.com\")"
   ]
  },
  {
   "cell_type": "code",
   "execution_count": null,
   "id": "d8af6144",
   "metadata": {},
   "outputs": [],
   "source": [
    "explore_button=driver.find_element_by_xpath(\"//button[@class='icon--hamburger']\")\n",
    "explore_button.click()"
   ]
  },
  {
   "cell_type": "code",
   "execution_count": null,
   "id": "51810db7",
   "metadata": {},
   "outputs": [],
   "source": [
    "billionaire_option=driver.find_element_by_xpath(\"//li[@class='header__channel header__color--centennial-silver header__hoverable']\")\n",
    "billionaire_option.click()\n",
    "time.sleep(7)"
   ]
  },
  {
   "cell_type": "code",
   "execution_count": null,
   "id": "1ad8a397",
   "metadata": {},
   "outputs": [],
   "source": [
    "world_billionaire_option=driver.find_element_by_xpath(\"/html/body/div[1]/header/nav/div[3]/ul/li[1]/div[2]/ul/li[2]/a\")\n",
    "world_billionaire_option.click()"
   ]
  },
  {
   "cell_type": "code",
   "execution_count": null,
   "id": "8b95fa20",
   "metadata": {},
   "outputs": [],
   "source": [
    "time.sleep(5)"
   ]
  },
  {
   "cell_type": "code",
   "execution_count": null,
   "id": "b801f7f5",
   "metadata": {},
   "outputs": [],
   "source": [
    "ranklist=[]\n",
    "namelist=[]\n",
    "netlist=[]\n",
    "agelist=[]\n",
    "countrylist=[]\n",
    "sourcelist=[]\n",
    "industrylist=[]"
   ]
  },
  {
   "cell_type": "code",
   "execution_count": null,
   "id": "a6069fa7",
   "metadata": {},
   "outputs": [],
   "source": [
    "name_tags=driver.find_elements_by_xpath(\"//div[@class='personName']\")\n",
    "name_tags\n",
    "time.sleep(5)"
   ]
  },
  {
   "cell_type": "code",
   "execution_count": null,
   "id": "1593549b",
   "metadata": {},
   "outputs": [],
   "source": [
    "print(len(name_tags))"
   ]
  },
  {
   "cell_type": "code",
   "execution_count": null,
   "id": "71509aa3",
   "metadata": {},
   "outputs": [],
   "source": [
    "for i in name_tags:\n",
    "    name=i.text\n",
    "    namelist.append(name)\n",
    "namelist[0:199]\n",
    "time.sleep(5)"
   ]
  },
  {
   "cell_type": "code",
   "execution_count": null,
   "id": "659f44b5",
   "metadata": {},
   "outputs": [],
   "source": [
    "rank_tags=driver.find_elements_by_xpath(\"//div[@class='rank']\")\n",
    "rank_tags\n",
    "time.sleep(5)"
   ]
  },
  {
   "cell_type": "code",
   "execution_count": null,
   "id": "8c9d7800",
   "metadata": {},
   "outputs": [],
   "source": [
    "print(len(rank_tags))"
   ]
  },
  {
   "cell_type": "code",
   "execution_count": null,
   "id": "c5512ebb",
   "metadata": {},
   "outputs": [],
   "source": [
    "for i in rank_tags:\n",
    "    rank=i.text\n",
    "    ranklist.append(rank)\n",
    "ranklist[0:199]\n",
    "time.sleep(5)"
   ]
  },
  {
   "cell_type": "code",
   "execution_count": null,
   "id": "1d18118a",
   "metadata": {},
   "outputs": [],
   "source": [
    "net_tags=driver.find_elements_by_xpath(\"//div[@class='netWorth']\")\n",
    "net_tags\n",
    "time.sleep(5)"
   ]
  },
  {
   "cell_type": "code",
   "execution_count": null,
   "id": "19acb44d",
   "metadata": {},
   "outputs": [],
   "source": [
    "for i in net_tags:\n",
    "    net=i.text\n",
    "    netlist.append(net)\n",
    "netlist[0:199]\n",
    "time.sleep(5)"
   ]
  },
  {
   "cell_type": "code",
   "execution_count": null,
   "id": "263d2d57",
   "metadata": {},
   "outputs": [],
   "source": [
    "age_tags=driver.find_elements_by_xpath(\"//div[@class='age']\")\n",
    "age_tags\n",
    "time.sleep(5)"
   ]
  },
  {
   "cell_type": "code",
   "execution_count": null,
   "id": "f4529745",
   "metadata": {},
   "outputs": [],
   "source": [
    "for i in age_tags:\n",
    "    age=i.text\n",
    "    agelist.append(age)\n",
    "agelist[0:199]\n",
    "time.sleep(5)"
   ]
  },
  {
   "cell_type": "code",
   "execution_count": null,
   "id": "7df8935c",
   "metadata": {},
   "outputs": [],
   "source": [
    "country_tags=driver.find_elements_by_xpath(\"//div[@class='countryOfCitizenship']\")\n",
    "country_tags\n",
    "time.sleep(5)"
   ]
  },
  {
   "cell_type": "code",
   "execution_count": null,
   "id": "b4a5ce77",
   "metadata": {},
   "outputs": [],
   "source": [
    "for i in country_tags:\n",
    "    con=i.text\n",
    "    countrylist.append(con)\n",
    "countrylist[0:199]\n",
    "time.sleep(5)"
   ]
  },
  {
   "cell_type": "code",
   "execution_count": null,
   "id": "2e6e6e29",
   "metadata": {},
   "outputs": [],
   "source": [
    "source_tags=driver.find_elements_by_xpath(\"//span[@class='source-text']\")\n",
    "source_tags\n",
    "time.sleep(5)"
   ]
  },
  {
   "cell_type": "code",
   "execution_count": null,
   "id": "214ea881",
   "metadata": {},
   "outputs": [],
   "source": [
    "for i in source_tags:\n",
    "    source=i.text\n",
    "    sourcelist.append(source)\n",
    "sourcelist[0:199]\n",
    "time.sleep(5)"
   ]
  },
  {
   "cell_type": "code",
   "execution_count": null,
   "id": "463d5dc8",
   "metadata": {},
   "outputs": [],
   "source": [
    "industry_tags=driver.find_elements_by_xpath(\"//div[@class='category']\")\n",
    "industry_tags\n",
    "time.sleep(5)"
   ]
  },
  {
   "cell_type": "code",
   "execution_count": null,
   "id": "3c1e0abd",
   "metadata": {},
   "outputs": [],
   "source": [
    "for i in industry_tags:\n",
    "    indus=i.text\n",
    "    industrylist.append(indus)\n",
    "industrylist[0:199]\n",
    "time.sleep(5)"
   ]
  },
  {
   "cell_type": "code",
   "execution_count": null,
   "id": "5fa8cf53",
   "metadata": {},
   "outputs": [],
   "source": [
    "# Making DataFrame\n",
    "df=pd.DataFrame({'Rank':ranklist[0:199],'Name':namelist[0:199],'Networth':netlist[0:199],'Age':agelist[0:199],'Citizenship':countrylist[0:199],'Source':sourcelist[0:199],'Industry':industrylist[0:199]})"
   ]
  },
  {
   "cell_type": "code",
   "execution_count": null,
   "id": "c367cfbb",
   "metadata": {},
   "outputs": [],
   "source": [
    "df"
   ]
  },
  {
   "cell_type": "code",
   "execution_count": null,
   "id": "5d687f37",
   "metadata": {},
   "outputs": [],
   "source": [
    "driver.close()"
   ]
  },
  {
   "cell_type": "code",
   "execution_count": null,
   "id": "be383d29",
   "metadata": {},
   "outputs": [],
   "source": []
  },
  {
   "cell_type": "markdown",
   "id": "c0e96040",
   "metadata": {},
   "source": [
    "# Program to Scrap all the available details of best gaming laptops from digit.in."
   ]
  },
  {
   "cell_type": "code",
   "execution_count": null,
   "id": "ee3bc14f",
   "metadata": {},
   "outputs": [],
   "source": [
    "import selenium \n",
    "import pandas as pd\n",
    "from selenium import webdriver\n",
    "import warnings\n",
    "warnings.filterwarnings('ignore')\n",
    "import time"
   ]
  },
  {
   "cell_type": "code",
   "execution_count": null,
   "id": "8ba09452",
   "metadata": {},
   "outputs": [],
   "source": [
    "driver=webdriver.Chrome('chromedriver.exe')"
   ]
  },
  {
   "cell_type": "code",
   "execution_count": null,
   "id": "c2e4e3f0",
   "metadata": {},
   "outputs": [],
   "source": [
    "driver.get('https://www.digit.in')"
   ]
  },
  {
   "cell_type": "code",
   "execution_count": null,
   "id": "326ebcc6",
   "metadata": {},
   "outputs": [],
   "source": [
    "laptop_option=driver.find_element_by_xpath('/html/body/div[1]/div/div[4]/ul/li[3]/a')\n",
    "laptop_option.click()\n",
    "time.sleep(5)"
   ]
  },
  {
   "cell_type": "code",
   "execution_count": null,
   "id": "84615cf5",
   "metadata": {},
   "outputs": [],
   "source": [
    "gaming_laptop_option=driver.find_element_by_xpath('/html/body/div[6]/div/div[2]/div[2]/ul/li[10]/a')\n",
    "gaming_laptop_option.click()"
   ]
  },
  {
   "cell_type": "code",
   "execution_count": null,
   "id": "8e52f9ac",
   "metadata": {},
   "outputs": [],
   "source": [
    "namelist=[]\n",
    "pricelist=[]\n",
    "sellerlist=[]\n",
    "speclist=[]"
   ]
  },
  {
   "cell_type": "code",
   "execution_count": null,
   "id": "22be282a",
   "metadata": {},
   "outputs": [],
   "source": [
    "name_tags=driver.find_elements_by_xpath(\"//div[@class='TopNumbeHeading sticky-footer']\")\n",
    "name_tags[0:9]"
   ]
  },
  {
   "cell_type": "code",
   "execution_count": null,
   "id": "3ed40f7f",
   "metadata": {},
   "outputs": [],
   "source": [
    "for i in name_tags:\n",
    "    name=i.text\n",
    "    namelist.append(name)\n",
    "namelist[0:9]"
   ]
  },
  {
   "cell_type": "code",
   "execution_count": null,
   "id": "d12060de",
   "metadata": {},
   "outputs": [],
   "source": [
    "seller_tags=driver.find_elements_by_xpath(\"//td[@class='smmerchant']\")\n",
    "seller_tags[0:9]"
   ]
  },
  {
   "cell_type": "code",
   "execution_count": null,
   "id": "6fbc579b",
   "metadata": {},
   "outputs": [],
   "source": [
    "for i in seller_tags:\n",
    "    seller=i.text\n",
    "    sellerlist.append(seller)\n",
    "sellerlist[0:9]"
   ]
  },
  {
   "cell_type": "code",
   "execution_count": null,
   "id": "848a4f04",
   "metadata": {},
   "outputs": [],
   "source": [
    "price_tags=driver.find_elements_by_xpath(\"//td[@class='smprice']\")\n",
    "price_tags[0:9]"
   ]
  },
  {
   "cell_type": "code",
   "execution_count": null,
   "id": "0fce2a48",
   "metadata": {},
   "outputs": [],
   "source": [
    "for i in price_tags:\n",
    "    price=i.text\n",
    "    pricelist.append(price)\n",
    "pricelist[0:9]"
   ]
  },
  {
   "cell_type": "code",
   "execution_count": null,
   "id": "dfc2d7d1",
   "metadata": {},
   "outputs": [],
   "source": [
    "spec_tags=driver.find_elements_by_xpath(\"//div[@class='Spcs-details']\")\n",
    "spec_tags[0:9]"
   ]
  },
  {
   "cell_type": "code",
   "execution_count": null,
   "id": "a22c34f4",
   "metadata": {},
   "outputs": [],
   "source": [
    "for i in spec_tags:\n",
    "    spec=i.text\n",
    "    speclist.append(spec)\n",
    "speclist[0:9]"
   ]
  },
  {
   "cell_type": "code",
   "execution_count": null,
   "id": "e3268ec1",
   "metadata": {},
   "outputs": [],
   "source": [
    "# Making Dataframe\n",
    "df=pd.DataFrame({'Product Name':namelist[0:9],'Price':pricelist[0:9],'Seller':sellerlist[0:9],'Specifications':speclist[0:9]})"
   ]
  },
  {
   "cell_type": "code",
   "execution_count": null,
   "id": "69fa4373",
   "metadata": {},
   "outputs": [],
   "source": [
    "df"
   ]
  },
  {
   "cell_type": "code",
   "execution_count": null,
   "id": "a0880a2b",
   "metadata": {},
   "outputs": [],
   "source": [
    "driver.close()"
   ]
  },
  {
   "cell_type": "code",
   "execution_count": null,
   "id": "151b941f",
   "metadata": {},
   "outputs": [],
   "source": []
  },
  {
   "cell_type": "markdown",
   "id": "ad99e19f",
   "metadata": {},
   "source": [
    "# Python program to Scrape a data for all available Hostels from hostelworld.com in “London” location"
   ]
  },
  {
   "cell_type": "code",
   "execution_count": null,
   "id": "91f9aabc",
   "metadata": {},
   "outputs": [],
   "source": [
    "import selenium \n",
    "import pandas as pd\n",
    "from selenium import webdriver\n",
    "import warnings\n",
    "warnings.filterwarnings('ignore')\n",
    "import time\n",
    "from selenium.common.exceptions import NoSuchElementException"
   ]
  },
  {
   "cell_type": "code",
   "execution_count": null,
   "id": "174fb190",
   "metadata": {},
   "outputs": [],
   "source": [
    "driver=webdriver.Chrome('chromedriver.exe')"
   ]
  },
  {
   "cell_type": "code",
   "execution_count": null,
   "id": "f8334502",
   "metadata": {},
   "outputs": [],
   "source": [
    "driver.get('https://www.hostelworld.com')"
   ]
  },
  {
   "cell_type": "code",
   "execution_count": null,
   "id": "adc2411e",
   "metadata": {},
   "outputs": [],
   "source": [
    "search_field=driver.find_element_by_xpath(\"/html/body/div[3]/div/div/div[1]/div[1]/div/div[2]/div[4]/div/div[2]/div/div[1]/div/div/div/input\")\n",
    "search_field.send_keys('London england')"
   ]
  },
  {
   "cell_type": "code",
   "execution_count": null,
   "id": "3c13d4b4",
   "metadata": {},
   "outputs": [],
   "source": [
    "go_button=driver.find_element_by_xpath(\"//div[@class='label']\")\n",
    "go_button.click()"
   ]
  },
  {
   "cell_type": "code",
   "execution_count": null,
   "id": "bf80e6a1",
   "metadata": {},
   "outputs": [],
   "source": [
    "search_button=driver.find_element_by_xpath(\"//div[@class='search-button']\")\n",
    "search_button.click()"
   ]
  },
  {
   "cell_type": "code",
   "execution_count": null,
   "id": "54718ce0",
   "metadata": {},
   "outputs": [],
   "source": [
    "time.sleep(5)"
   ]
  },
  {
   "cell_type": "code",
   "execution_count": null,
   "id": "3a589d0e",
   "metadata": {},
   "outputs": [],
   "source": [
    "hnamelist=[]\n",
    "distancelist=[]\n",
    "ratinglist=[]\n",
    "totreviewlist=[]\n",
    "oreviewlist=[]\n",
    "ppricelist=[]\n",
    "dpricelist=[]"
   ]
  },
  {
   "cell_type": "code",
   "execution_count": null,
   "id": "992f0bc4",
   "metadata": {},
   "outputs": [],
   "source": [
    "hname_tags=driver.find_elements_by_xpath(\"//h2[@class='title title-6']\")\n",
    "hname_tags[0:15]"
   ]
  },
  {
   "cell_type": "code",
   "execution_count": null,
   "id": "a5ae3672",
   "metadata": {},
   "outputs": [],
   "source": [
    "for i in hname_tags:\n",
    "    hname=i.text\n",
    "    hnamelist.append(hname)\n",
    "hnamelist[0:15]"
   ]
  },
  {
   "cell_type": "code",
   "execution_count": null,
   "id": "1f6fc317",
   "metadata": {},
   "outputs": [],
   "source": [
    "distance_tags=driver.find_elements_by_xpath(\"//span[@class='description']\")\n",
    "distance_tags[0:15]"
   ]
  },
  {
   "cell_type": "code",
   "execution_count": null,
   "id": "72603b6b",
   "metadata": {},
   "outputs": [],
   "source": [
    "for i in distance_tags:\n",
    "    dist=i.text\n",
    "    distancelist.append(dist)\n",
    "distancelist[0:15]"
   ]
  },
  {
   "cell_type": "code",
   "execution_count": null,
   "id": "6a8e7a88",
   "metadata": {},
   "outputs": [],
   "source": [
    "rating_tags=driver.find_elements_by_xpath(\"//div[@class='score orange big']\")\n",
    "rating_tags[0:15]"
   ]
  },
  {
   "cell_type": "code",
   "execution_count": null,
   "id": "f58815bb",
   "metadata": {},
   "outputs": [],
   "source": [
    "for i in rating_tags:\n",
    "    rating=i.text\n",
    "    ratinglist.append(rating)\n",
    "ratinglist"
   ]
  },
  {
   "cell_type": "code",
   "execution_count": null,
   "id": "49ce023b",
   "metadata": {},
   "outputs": [],
   "source": [
    "totreview_tags=driver.find_elements_by_xpath(\"//div[@class='reviews']\")\n",
    "totreview_tags[0:15]"
   ]
  },
  {
   "cell_type": "code",
   "execution_count": null,
   "id": "acee19a2",
   "metadata": {},
   "outputs": [],
   "source": [
    "for i in totreview_tags:\n",
    "    tot=i.text\n",
    "    totreviewlist.append(tot)\n",
    "totreviewlist[0:15]"
   ]
  },
  {
   "cell_type": "code",
   "execution_count": null,
   "id": "0461d94a",
   "metadata": {},
   "outputs": [],
   "source": [
    "oreview_tags=driver.find_elements_by_xpath(\"//div[@class='keyword']\")\n",
    "oreview_tags[0:15]"
   ]
  },
  {
   "cell_type": "code",
   "execution_count": null,
   "id": "297ba70c",
   "metadata": {},
   "outputs": [],
   "source": [
    "for i in oreview_tags:\n",
    "    o=i.text\n",
    "    oreviewlist.append(o)\n",
    "oreviewlist[0:15]"
   ]
  },
  {
   "cell_type": "code",
   "execution_count": null,
   "id": "eee4f507",
   "metadata": {},
   "outputs": [],
   "source": [
    "pprice_tags=driver.find_elements_by_xpath(\"//div[@class='price title-5']\")\n",
    "pprice_tags[0:15]"
   ]
  },
  {
   "cell_type": "code",
   "execution_count": null,
   "id": "6601b4a9",
   "metadata": {},
   "outputs": [],
   "source": [
    "for i in pprice_tags:\n",
    "    pprice=i.text\n",
    "    ppricelist.append(pprice)\n",
    "ppricelist[0:15]"
   ]
  },
  {
   "cell_type": "code",
   "execution_count": null,
   "id": "ab29f751",
   "metadata": {},
   "outputs": [],
   "source": [
    "dprice_tags=driver.find_elements_by_xpath(\"//p[@class='no-price body-3 no-dorms']\")\n",
    "dprice_tags[0:15]"
   ]
  },
  {
   "cell_type": "code",
   "execution_count": null,
   "id": "427f2fcd",
   "metadata": {},
   "outputs": [],
   "source": [
    "for i in dprice_tags:\n",
    "    dprice=i.text\n",
    "    dpricelist.append(dprice)\n",
    "dpricelist[0:15]"
   ]
  },
  {
   "cell_type": "code",
   "execution_count": null,
   "id": "792eb6d6",
   "metadata": {},
   "outputs": [],
   "source": [
    "# printing length\n",
    "print(len(hnamelist),len(distancelist),len(ratinglist),len(totreviewlist),len(oreviewlist),len(ppricelist),len(dpricelist))"
   ]
  },
  {
   "cell_type": "code",
   "execution_count": null,
   "id": "9bcf77bb",
   "metadata": {},
   "outputs": [],
   "source": [
    "driver.close()"
   ]
  },
  {
   "cell_type": "code",
   "execution_count": null,
   "id": "92b58ef0",
   "metadata": {},
   "outputs": [],
   "source": []
  },
  {
   "cell_type": "markdown",
   "id": "4aea3846",
   "metadata": {},
   "source": [
    "# Python program to Extract at least 500 Comments, Comment upvote and time when comment was posted from any YouTube Video."
   ]
  },
  {
   "cell_type": "code",
   "execution_count": null,
   "id": "4815a3bb",
   "metadata": {},
   "outputs": [],
   "source": [
    "import selenium \n",
    "import pandas as pd\n",
    "from selenium import webdriver\n",
    "import warnings\n",
    "warnings.filterwarnings('ignore')\n",
    "import time"
   ]
  },
  {
   "cell_type": "code",
   "execution_count": null,
   "id": "6a351f87",
   "metadata": {},
   "outputs": [],
   "source": [
    "driver=webdriver.Chrome(\"chromedriver.exe\")\n",
    "time.sleep(4)"
   ]
  },
  {
   "cell_type": "code",
   "execution_count": null,
   "id": "4a6eeb1a",
   "metadata": {},
   "outputs": [],
   "source": [
    "driver.get(\"https://www.youtube.com\")\n",
    "time.sleep(5)"
   ]
  },
  {
   "cell_type": "code",
   "execution_count": null,
   "id": "9ffe1dc9",
   "metadata": {},
   "outputs": [],
   "source": [
    "search_field=driver.find_element_by_xpath(\"//input[@class='ytd-searchbox']\")\n",
    "search_field.send_keys(\"that time an indian kingdom invaded southeast asia \")\n",
    "time.sleep(5)"
   ]
  },
  {
   "cell_type": "code",
   "execution_count": null,
   "id": "63f8866e",
   "metadata": {},
   "outputs": [],
   "source": [
    "search_button=driver.find_element_by_xpath(\"//button[@class='style-scope ytd-searchbox']\")\n",
    "search_button.click()"
   ]
  },
  {
   "cell_type": "code",
   "execution_count": null,
   "id": "092493cc",
   "metadata": {},
   "outputs": [],
   "source": [
    "choose_option=driver.find_element_by_xpath(\"//a[@class='style-scope ytd-video-renderer']\")\n",
    "choose_option.click()"
   ]
  },
  {
   "cell_type": "code",
   "execution_count": null,
   "id": "298d9117",
   "metadata": {},
   "outputs": [],
   "source": [
    "time.sleep(5)"
   ]
  },
  {
   "cell_type": "code",
   "execution_count": null,
   "id": "1155eb66",
   "metadata": {},
   "outputs": [],
   "source": [
    "select_option=driver.find_element_by_xpath(\"//a[@class='yt-simple-endpoint style-scope ytd-grid-video-renderer']\")\n",
    "select_option.click()"
   ]
  },
  {
   "cell_type": "code",
   "execution_count": null,
   "id": "94dab72a",
   "metadata": {},
   "outputs": [],
   "source": [
    "commentlist=[]\n",
    "upvotelist=[]\n",
    "datelist=[]"
   ]
  },
  {
   "cell_type": "code",
   "execution_count": null,
   "id": "537b06b7",
   "metadata": {},
   "outputs": [],
   "source": [
    "for _ in range(1000):\n",
    "\n",
    "    driver.execute_script(\"window.scrollBy(0,10000)\")\n",
    "comment_tags=driver.find_elements_by_xpath(\"//yt-formatted-string[@class='style-scope ytd-comment-renderer']\")\n",
    "comment_tags"
   ]
  },
  {
   "cell_type": "code",
   "execution_count": null,
   "id": "91929408",
   "metadata": {},
   "outputs": [],
   "source": [
    "for i in comment_tags:\n",
    "    com=i.text\n",
    "    commentlist.append(com)\n",
    "commentlist[0:500]"
   ]
  },
  {
   "cell_type": "code",
   "execution_count": null,
   "id": "38bad7b5",
   "metadata": {},
   "outputs": [],
   "source": [
    "time.sleep(10)"
   ]
  },
  {
   "cell_type": "code",
   "execution_count": null,
   "id": "92b967a8",
   "metadata": {},
   "outputs": [],
   "source": [
    "for _ in range(1000):\n",
    "\n",
    "    driver.execute_script(\"window.scrollBy(0,10000)\")\n",
    "upvote_tags=driver.find_elements_by_xpath(\"//span[@class='style-scope ytd-comment-action-buttons-renderer']\")\n",
    "upvote_tags"
   ]
  },
  {
   "cell_type": "code",
   "execution_count": null,
   "id": "6c08a3dd",
   "metadata": {},
   "outputs": [],
   "source": [
    "for i in upvote_tags:\n",
    "    upv=i.text\n",
    "    upvotelist.append(upv)\n",
    "upvotelist[0:500]"
   ]
  },
  {
   "cell_type": "code",
   "execution_count": null,
   "id": "c5d3a29e",
   "metadata": {},
   "outputs": [],
   "source": [
    "time.sleep(10)"
   ]
  },
  {
   "cell_type": "code",
   "execution_count": null,
   "id": "06f3e614",
   "metadata": {},
   "outputs": [],
   "source": [
    "for _ in range(1000):\n",
    "\n",
    "    driver.execute_script(\"window.scrollBy(0,10000)\")\n",
    "date_tags=driver.find_elements_by_xpath(\"//a[@class='yt-simple-endpoint style-scope yt-formatted-string']\")\n",
    "date_tags"
   ]
  },
  {
   "cell_type": "code",
   "execution_count": null,
   "id": "fb750734",
   "metadata": {},
   "outputs": [],
   "source": [
    "for i in date_tags:\n",
    "    date=i.text\n",
    "    datelist.append(date)\n",
    "datelist[0:499]"
   ]
  },
  {
   "cell_type": "code",
   "execution_count": null,
   "id": "00e7bde9",
   "metadata": {},
   "outputs": [],
   "source": [
    "# Printing Length\n",
    "print(len(commentlist),len(upvotelist),len(datelist))"
   ]
  },
  {
   "cell_type": "code",
   "execution_count": null,
   "id": "bc34ecfa",
   "metadata": {},
   "outputs": [],
   "source": []
  },
  {
   "cell_type": "markdown",
   "id": "7a3f748c",
   "metadata": {},
   "source": [
    "# Program to Scrap details of all the funding deals for second quarter (i.e Jan 21 – March 21) from trak.in."
   ]
  },
  {
   "cell_type": "code",
   "execution_count": 46,
   "id": "f6c1adaf",
   "metadata": {},
   "outputs": [],
   "source": [
    "import selenium \n",
    "import pandas as pd\n",
    "from selenium import webdriver\n",
    "import warnings\n",
    "warnings.filterwarnings('ignore')\n",
    "import time"
   ]
  },
  {
   "cell_type": "code",
   "execution_count": 47,
   "id": "1f26bc13",
   "metadata": {},
   "outputs": [],
   "source": [
    "driver=webdriver.Chrome(\"chromedriver.exe\")"
   ]
  },
  {
   "cell_type": "code",
   "execution_count": 48,
   "id": "b4a0901d",
   "metadata": {},
   "outputs": [],
   "source": [
    "driver.get(\"https://www.trak.in\")"
   ]
  },
  {
   "cell_type": "code",
   "execution_count": 49,
   "id": "ef91f3b4",
   "metadata": {},
   "outputs": [],
   "source": [
    "time.sleep(5)"
   ]
  },
  {
   "cell_type": "code",
   "execution_count": 52,
   "id": "cf8b4b1e",
   "metadata": {},
   "outputs": [],
   "source": [
    "driver.get(\"http://trak.in/india-startup-funding-investment-2015/\")"
   ]
  },
  {
   "cell_type": "code",
   "execution_count": 53,
   "id": "c28f56f2",
   "metadata": {},
   "outputs": [],
   "source": [
    "janlist=[]\n",
    "feblist=[]\n",
    "marlist=[]\n",
    "aprlist=[]"
   ]
  },
  {
   "cell_type": "code",
   "execution_count": null,
   "id": "087d4839",
   "metadata": {},
   "outputs": [],
   "source": [
    "jan_tags=driver.find_elements_by_xpath(\"\")"
   ]
  },
  {
   "cell_type": "code",
   "execution_count": null,
   "id": "12dad2c7",
   "metadata": {},
   "outputs": [],
   "source": []
  },
  {
   "cell_type": "code",
   "execution_count": null,
   "id": "87f10488",
   "metadata": {},
   "outputs": [],
   "source": []
  },
  {
   "cell_type": "code",
   "execution_count": null,
   "id": "a3b9d10a",
   "metadata": {},
   "outputs": [],
   "source": []
  },
  {
   "cell_type": "code",
   "execution_count": null,
   "id": "d6a5ba95",
   "metadata": {},
   "outputs": [],
   "source": []
  },
  {
   "cell_type": "markdown",
   "id": "7dd3f491",
   "metadata": {},
   "source": [
    "# Python program to Scrap Geospatial coordinates (latitude, longitude) of a city searched on google maps"
   ]
  },
  {
   "cell_type": "code",
   "execution_count": 38,
   "id": "6a17a57e",
   "metadata": {},
   "outputs": [],
   "source": [
    "import selenium \n",
    "import pandas as pd\n",
    "from selenium import webdriver\n",
    "import warnings\n",
    "warnings.filterwarnings('ignore')\n",
    "import time\n",
    "import regex as re"
   ]
  },
  {
   "cell_type": "code",
   "execution_count": 39,
   "id": "254f0cca",
   "metadata": {},
   "outputs": [],
   "source": [
    "driver=webdriver.Chrome(\"chromedriver.exe\")"
   ]
  },
  {
   "cell_type": "code",
   "execution_count": 40,
   "id": "bb6cb454",
   "metadata": {},
   "outputs": [],
   "source": [
    "driver.get('https://www.google.co.in/maps')"
   ]
  },
  {
   "cell_type": "code",
   "execution_count": 41,
   "id": "0143c60e",
   "metadata": {},
   "outputs": [],
   "source": [
    "search_field=driver.find_element_by_xpath(\"//input[@class='tactile-searchbox-input']\")\n",
    "search_field.send_keys('Chennai')"
   ]
  },
  {
   "cell_type": "code",
   "execution_count": 42,
   "id": "7c2d7fed",
   "metadata": {},
   "outputs": [],
   "source": [
    "search_button=driver.find_element_by_xpath(\"//button[@class='mL3xi']\")\n",
    "search_button.click()"
   ]
  },
  {
   "cell_type": "code",
   "execution_count": 43,
   "id": "18da6f08",
   "metadata": {},
   "outputs": [],
   "source": [
    "current_url=('https://www.google.co.in/maps/place/Chennai,+Tamil+Nadu/@13.0475255,80.2090117,10z/data=!3m1!4b1!4m5!3m4!1s0x3a5265ea4f7d3361:0x6e61a70b6863d433!8m2!3d13.0826802!4d80.2707184')"
   ]
  },
  {
   "cell_type": "code",
   "execution_count": 44,
   "id": "658743c6",
   "metadata": {},
   "outputs": [
    {
     "name": "stdout",
     "output_type": "stream",
     "text": [
      "URL Extracted:  https://www.google.co.in/maps/place/Chennai,+Tamil+Nadu/@10.7828364,78.2885026,7z/data=!4m5!3m4!1s0x3a5265ea4f7d3361:0x6e61a70b6863d433!8m2!3d13.0826802!4d80.2707184\n",
      "Latitude = 10.7828364, Longitude = 78.2885026\n"
     ]
    }
   ],
   "source": [
    "try:\n",
    "\n",
    "    url_string = driver.current_url\n",
    "\n",
    "    print(\"URL Extracted: \", url_string)\n",
    "\n",
    "    lat_lng = re.findall(r'@(.*)data',url_string)\n",
    "\n",
    "    if len(lat_lng):\n",
    "\n",
    "        lat_lng_list = lat_lng[0].split(\",\")\n",
    "\n",
    "        if len(lat_lng_list)>=2:\n",
    "\n",
    "            lat = lat_lng_list[0]\n",
    "\n",
    "            lng = lat_lng_list[1]\n",
    "\n",
    "        print(\"Latitude = {}, Longitude = {}\".format(lat, lng))\n",
    "\n",
    "\n",
    "\n",
    "except Exception as e:\n",
    "\n",
    "        print(\"Error: \", str(e))"
   ]
  },
  {
   "cell_type": "code",
   "execution_count": 45,
   "id": "3eccb566",
   "metadata": {},
   "outputs": [],
   "source": [
    "driver.close()"
   ]
  },
  {
   "cell_type": "code",
   "execution_count": null,
   "id": "5a6681f9",
   "metadata": {},
   "outputs": [],
   "source": []
  },
  {
   "cell_type": "code",
   "execution_count": null,
   "id": "2c25f9b0",
   "metadata": {},
   "outputs": [],
   "source": []
  },
  {
   "cell_type": "code",
   "execution_count": null,
   "id": "d607f8cc",
   "metadata": {},
   "outputs": [],
   "source": []
  },
  {
   "cell_type": "code",
   "execution_count": null,
   "id": "6a33ebf6",
   "metadata": {},
   "outputs": [],
   "source": []
  },
  {
   "cell_type": "code",
   "execution_count": null,
   "id": "4125c212",
   "metadata": {},
   "outputs": [],
   "source": []
  },
  {
   "cell_type": "code",
   "execution_count": null,
   "id": "1c422314",
   "metadata": {},
   "outputs": [],
   "source": []
  },
  {
   "cell_type": "code",
   "execution_count": null,
   "id": "bfe65a7c",
   "metadata": {},
   "outputs": [],
   "source": []
  },
  {
   "cell_type": "code",
   "execution_count": null,
   "id": "64cb3c6e",
   "metadata": {},
   "outputs": [],
   "source": []
  },
  {
   "cell_type": "code",
   "execution_count": null,
   "id": "ef91f51f",
   "metadata": {},
   "outputs": [],
   "source": []
  },
  {
   "cell_type": "code",
   "execution_count": null,
   "id": "fbd04568",
   "metadata": {},
   "outputs": [],
   "source": []
  },
  {
   "cell_type": "code",
   "execution_count": null,
   "id": "fefddced",
   "metadata": {},
   "outputs": [],
   "source": []
  },
  {
   "cell_type": "code",
   "execution_count": null,
   "id": "142402f7",
   "metadata": {},
   "outputs": [],
   "source": []
  },
  {
   "cell_type": "code",
   "execution_count": null,
   "id": "87e00066",
   "metadata": {},
   "outputs": [],
   "source": []
  },
  {
   "cell_type": "code",
   "execution_count": null,
   "id": "96362e79",
   "metadata": {},
   "outputs": [],
   "source": []
  },
  {
   "cell_type": "code",
   "execution_count": null,
   "id": "c9d03dbb",
   "metadata": {},
   "outputs": [],
   "source": []
  },
  {
   "cell_type": "code",
   "execution_count": null,
   "id": "102830f6",
   "metadata": {},
   "outputs": [],
   "source": []
  },
  {
   "cell_type": "code",
   "execution_count": null,
   "id": "ea7c1f1c",
   "metadata": {},
   "outputs": [],
   "source": []
  },
  {
   "cell_type": "code",
   "execution_count": null,
   "id": "cfb9455a",
   "metadata": {},
   "outputs": [],
   "source": []
  },
  {
   "cell_type": "code",
   "execution_count": null,
   "id": "c929502b",
   "metadata": {},
   "outputs": [],
   "source": []
  },
  {
   "cell_type": "code",
   "execution_count": null,
   "id": "3ca9ba53",
   "metadata": {},
   "outputs": [],
   "source": []
  },
  {
   "cell_type": "code",
   "execution_count": null,
   "id": "889892b3",
   "metadata": {},
   "outputs": [],
   "source": []
  },
  {
   "cell_type": "code",
   "execution_count": null,
   "id": "d0e34588",
   "metadata": {},
   "outputs": [],
   "source": []
  },
  {
   "cell_type": "code",
   "execution_count": null,
   "id": "2357c175",
   "metadata": {},
   "outputs": [],
   "source": []
  },
  {
   "cell_type": "code",
   "execution_count": null,
   "id": "401e1232",
   "metadata": {},
   "outputs": [],
   "source": []
  },
  {
   "cell_type": "code",
   "execution_count": null,
   "id": "23cd8f8d",
   "metadata": {},
   "outputs": [],
   "source": []
  },
  {
   "cell_type": "code",
   "execution_count": null,
   "id": "3c56fb80",
   "metadata": {},
   "outputs": [],
   "source": []
  },
  {
   "cell_type": "code",
   "execution_count": null,
   "id": "96c4820e",
   "metadata": {},
   "outputs": [],
   "source": []
  },
  {
   "cell_type": "code",
   "execution_count": null,
   "id": "33ee82e0",
   "metadata": {},
   "outputs": [],
   "source": []
  },
  {
   "cell_type": "code",
   "execution_count": null,
   "id": "835a7739",
   "metadata": {},
   "outputs": [],
   "source": []
  },
  {
   "cell_type": "code",
   "execution_count": null,
   "id": "73ae6162",
   "metadata": {},
   "outputs": [],
   "source": []
  },
  {
   "cell_type": "code",
   "execution_count": null,
   "id": "5d8c6ef0",
   "metadata": {},
   "outputs": [],
   "source": []
  },
  {
   "cell_type": "code",
   "execution_count": null,
   "id": "29f8dbf9",
   "metadata": {},
   "outputs": [],
   "source": []
  },
  {
   "cell_type": "code",
   "execution_count": null,
   "id": "2d0dbf39",
   "metadata": {},
   "outputs": [],
   "source": []
  },
  {
   "cell_type": "code",
   "execution_count": null,
   "id": "1e419ecc",
   "metadata": {},
   "outputs": [],
   "source": []
  },
  {
   "cell_type": "code",
   "execution_count": null,
   "id": "4802f014",
   "metadata": {},
   "outputs": [],
   "source": []
  },
  {
   "cell_type": "code",
   "execution_count": null,
   "id": "226be830",
   "metadata": {},
   "outputs": [],
   "source": []
  },
  {
   "cell_type": "code",
   "execution_count": null,
   "id": "285ca857",
   "metadata": {},
   "outputs": [],
   "source": []
  },
  {
   "cell_type": "code",
   "execution_count": null,
   "id": "93fa4fa1",
   "metadata": {},
   "outputs": [],
   "source": []
  },
  {
   "cell_type": "code",
   "execution_count": null,
   "id": "7e3d820d",
   "metadata": {},
   "outputs": [],
   "source": []
  },
  {
   "cell_type": "code",
   "execution_count": null,
   "id": "b3181a72",
   "metadata": {},
   "outputs": [],
   "source": []
  },
  {
   "cell_type": "code",
   "execution_count": null,
   "id": "71e64c20",
   "metadata": {},
   "outputs": [],
   "source": []
  },
  {
   "cell_type": "code",
   "execution_count": null,
   "id": "1f83f7a6",
   "metadata": {},
   "outputs": [],
   "source": []
  }
 ],
 "metadata": {
  "kernelspec": {
   "display_name": "Python 3 (ipykernel)",
   "language": "python",
   "name": "python3"
  },
  "language_info": {
   "codemirror_mode": {
    "name": "ipython",
    "version": 3
   },
   "file_extension": ".py",
   "mimetype": "text/x-python",
   "name": "python",
   "nbconvert_exporter": "python",
   "pygments_lexer": "ipython3",
   "version": "3.9.7"
  }
 },
 "nbformat": 4,
 "nbformat_minor": 5
}
