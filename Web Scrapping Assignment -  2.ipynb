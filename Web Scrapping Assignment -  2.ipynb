{
 "cells": [
  {
   "cell_type": "markdown",
   "id": "a9777725",
   "metadata": {},
   "source": [
    "# Python program to scrape data for “Data Analyst” Job position in “Bangalore” location"
   ]
  },
  {
   "cell_type": "code",
   "execution_count": null,
   "id": "02fe46e0",
   "metadata": {},
   "outputs": [],
   "source": [
    "!pip install selenium"
   ]
  },
  {
   "cell_type": "code",
   "execution_count": null,
   "id": "f1f842b7",
   "metadata": {},
   "outputs": [],
   "source": [
    "import selenium\n",
    "import pandas as pd\n",
    "from selenium import webdriver\n",
    "import warnings\n",
    "warnings.filterwarnings('ignore')\n",
    "import time"
   ]
  },
  {
   "cell_type": "code",
   "execution_count": null,
   "id": "e4aa1bba",
   "metadata": {},
   "outputs": [],
   "source": [
    "driver=webdriver.Chrome(r\"D:\\Webdriver\\chromedriver.exe\")"
   ]
  },
  {
   "cell_type": "code",
   "execution_count": null,
   "id": "0fad3624",
   "metadata": {},
   "outputs": [],
   "source": [
    "driver=webdriver.Chrome(\"chromedriver.exe\")"
   ]
  },
  {
   "cell_type": "code",
   "execution_count": null,
   "id": "a3644a5f",
   "metadata": {},
   "outputs": [],
   "source": [
    "time.sleep(2)"
   ]
  },
  {
   "cell_type": "code",
   "execution_count": null,
   "id": "db574fd3",
   "metadata": {},
   "outputs": [],
   "source": [
    "driver.get('https://www.naukri.com/')"
   ]
  },
  {
   "cell_type": "code",
   "execution_count": null,
   "id": "8c7ad8d8",
   "metadata": {},
   "outputs": [],
   "source": [
    "search_field_designation=driver.find_element_by_class_name(\"suggestor-input \")\n",
    "search_field_designation.send_keys(\"Data Analyst\")"
   ]
  },
  {
   "cell_type": "code",
   "execution_count": null,
   "id": "c6d51ab4",
   "metadata": {},
   "outputs": [],
   "source": [
    "search_field_location=driver.find_element_by_xpath(\"/html/body/div/div[2]/div[3]/div/div/div[3]/div/div/div/input\")\n",
    "search_field_location.send_keys('Bangalore')"
   ]
  },
  {
   "cell_type": "code",
   "execution_count": null,
   "id": "fbeb5582",
   "metadata": {},
   "outputs": [],
   "source": [
    "search_button=driver.find_element_by_xpath(\"/html/body/div/div[2]/div[3]/div/div/div[6]\")\n",
    "search_button.click()"
   ]
  },
  {
   "cell_type": "code",
   "execution_count": null,
   "id": "199ebcd9",
   "metadata": {},
   "outputs": [],
   "source": [
    "job_title=[]\n",
    "job_location=[]\n",
    "company_name=[]\n",
    "experience_required=[]"
   ]
  },
  {
   "cell_type": "code",
   "execution_count": null,
   "id": "291b3560",
   "metadata": {},
   "outputs": [],
   "source": [
    "title_tags=driver.find_elements_by_xpath(\"//a[@class='title fw500 ellipsis']\")\n",
    "title_tags[0:10]"
   ]
  },
  {
   "cell_type": "code",
   "execution_count": null,
   "id": "118eae40",
   "metadata": {},
   "outputs": [],
   "source": [
    "for i in title_tags:\n",
    "    title=i.text\n",
    "    job_title.append(title)\n",
    "job_title[0:10]"
   ]
  },
  {
   "cell_type": "code",
   "execution_count": null,
   "id": "5084d9cf",
   "metadata": {},
   "outputs": [],
   "source": [
    "companies_tags=driver.find_elements_by_xpath(\"//a[@class='subTitle ellipsis fleft']\")\n",
    "companies_tags[0:10]"
   ]
  },
  {
   "cell_type": "code",
   "execution_count": null,
   "id": "b246b094",
   "metadata": {},
   "outputs": [],
   "source": [
    "for i in companies_tags:\n",
    "    company=i.text\n",
    "    company_name.append(company)\n",
    "company_name[0:10]"
   ]
  },
  {
   "cell_type": "code",
   "execution_count": null,
   "id": "49512e6e",
   "metadata": {},
   "outputs": [],
   "source": [
    "location_tags=driver.find_elements_by_xpath(\"//li[@class='fleft grey-text br2 placeHolderLi location']\")\n",
    "location_tags[0:10]"
   ]
  },
  {
   "cell_type": "code",
   "execution_count": null,
   "id": "16672d38",
   "metadata": {},
   "outputs": [],
   "source": [
    "for i in location_tags:\n",
    "    location=i.text\n",
    "    job_location.append(location)\n",
    "job_location[0:10]"
   ]
  },
  {
   "cell_type": "code",
   "execution_count": null,
   "id": "a490e17b",
   "metadata": {},
   "outputs": [],
   "source": [
    "experience_tags=driver.find_elements_by_xpath(\"//li[@class='fleft grey-text br2 placeHolderLi experience']\")\n",
    "experience_tags[0:10]"
   ]
  },
  {
   "cell_type": "code",
   "execution_count": null,
   "id": "945e52f7",
   "metadata": {},
   "outputs": [],
   "source": [
    "for i in experience_tags:\n",
    "    experience=i.text\n",
    "    experience_required.append(experience)\n",
    "experience_required[0:10]"
   ]
  },
  {
   "cell_type": "code",
   "execution_count": null,
   "id": "3d675701",
   "metadata": {},
   "outputs": [],
   "source": [
    "#printing length\n",
    "print(len(job_title),len(job_location),len(company_name),len(experience_required))"
   ]
  },
  {
   "cell_type": "code",
   "execution_count": null,
   "id": "fbbdc5c3",
   "metadata": {},
   "outputs": [],
   "source": [
    "#Making DataFrame\n",
    "import pandas as pd"
   ]
  },
  {
   "cell_type": "code",
   "execution_count": null,
   "id": "b653b2f1",
   "metadata": {},
   "outputs": [],
   "source": [
    "jobs=pd.DataFrame({})\n",
    "jobs['Job title']=job_title\n",
    "jobs['Job location']=job_location\n",
    "jobs['Company name']=company_name\n",
    "jobs['Experience required']=experience_required"
   ]
  },
  {
   "cell_type": "code",
   "execution_count": null,
   "id": "a1bb0362",
   "metadata": {},
   "outputs": [],
   "source": [
    "jobs"
   ]
  },
  {
   "cell_type": "markdown",
   "id": "eaa4e6cf",
   "metadata": {},
   "source": [
    "# Python program to scrape data for “Data Scientist” Job position in “Bangalore” location"
   ]
  },
  {
   "cell_type": "code",
   "execution_count": null,
   "id": "760ae997",
   "metadata": {},
   "outputs": [],
   "source": [
    "!pip install selenium"
   ]
  },
  {
   "cell_type": "code",
   "execution_count": null,
   "id": "b6f58e64",
   "metadata": {},
   "outputs": [],
   "source": [
    "import selenium\n",
    "import pandas as pd\n",
    "from selenium import webdriver\n",
    "import warnings\n",
    "warnings.filterwarnings('ignore')\n",
    "import time"
   ]
  },
  {
   "cell_type": "code",
   "execution_count": null,
   "id": "b6ab3ce7",
   "metadata": {},
   "outputs": [],
   "source": [
    "driver=webdriver.Chrome(\"chromedriver.exe\")"
   ]
  },
  {
   "cell_type": "code",
   "execution_count": null,
   "id": "dd75e9f0",
   "metadata": {},
   "outputs": [],
   "source": [
    "time.sleep(2)"
   ]
  },
  {
   "cell_type": "code",
   "execution_count": null,
   "id": "73238792",
   "metadata": {},
   "outputs": [],
   "source": [
    "driver.get(\"https://www.naukri.com/\")"
   ]
  },
  {
   "cell_type": "code",
   "execution_count": null,
   "id": "44301b5d",
   "metadata": {},
   "outputs": [],
   "source": [
    "search_field_designation=driver.find_element_by_class_name(\"suggestor-input \")\n",
    "search_field_designation.send_keys(\"Data Scientist\")"
   ]
  },
  {
   "cell_type": "code",
   "execution_count": null,
   "id": "2de6cc0d",
   "metadata": {},
   "outputs": [],
   "source": [
    "search_field_location=driver.find_element_by_xpath(\"/html/body/div/div[2]/div[3]/div/div/div[3]/div/div/div/input\")\n",
    "search_field_location.send_keys('Bangalore')"
   ]
  },
  {
   "cell_type": "code",
   "execution_count": null,
   "id": "eb8d3cc2",
   "metadata": {},
   "outputs": [],
   "source": [
    "search_button=driver.find_element_by_xpath('/html/body/div/div[2]/div[3]/div/div/div[6]')\n",
    "search_button.click()"
   ]
  },
  {
   "cell_type": "code",
   "execution_count": null,
   "id": "1bf99535",
   "metadata": {},
   "outputs": [],
   "source": [
    "job_titles=[]\n",
    "job_location=[]\n",
    "company_name=[]"
   ]
  },
  {
   "cell_type": "code",
   "execution_count": null,
   "id": "86baf784",
   "metadata": {},
   "outputs": [],
   "source": [
    "title_tags=driver.find_elements_by_xpath(\"//a[@class='title fw500 ellipsis']\")\n",
    "title_tags[0:10]"
   ]
  },
  {
   "cell_type": "code",
   "execution_count": null,
   "id": "289e2e94",
   "metadata": {},
   "outputs": [],
   "source": [
    "for i in title_tags:\n",
    "    title=i.text\n",
    "    job_titles.append(title)\n",
    "job_titles[0:10]"
   ]
  },
  {
   "cell_type": "code",
   "execution_count": null,
   "id": "d78ead49",
   "metadata": {},
   "outputs": [],
   "source": [
    "location_tags=driver.find_elements_by_xpath(\"//li[@class='fleft grey-text br2 placeHolderLi location']\")\n",
    "location_tags[0:10]"
   ]
  },
  {
   "cell_type": "code",
   "execution_count": null,
   "id": "adf5cbfb",
   "metadata": {},
   "outputs": [],
   "source": [
    "for i in location_tags:\n",
    "    location=i.text\n",
    "    job_location.append(location)\n",
    "job_location[0:10]"
   ]
  },
  {
   "cell_type": "code",
   "execution_count": null,
   "id": "e845aae3",
   "metadata": {},
   "outputs": [],
   "source": [
    "company_tags=driver.find_elements_by_xpath(\"//a[@class='subTitle ellipsis fleft']\")\n",
    "company_tags[0:10]"
   ]
  },
  {
   "cell_type": "code",
   "execution_count": null,
   "id": "55a3bd32",
   "metadata": {},
   "outputs": [],
   "source": [
    "for i in company_tags:\n",
    "    company=i.text\n",
    "    company_name.append(company)\n",
    "company_name[0:10]"
   ]
  },
  {
   "cell_type": "code",
   "execution_count": null,
   "id": "7f91be70",
   "metadata": {},
   "outputs": [],
   "source": [
    "jobs=pd.DataFrame({})\n",
    "jobs['Title']=job_titles[0:10]\n",
    "jobs['Location']=job_location[0:10]\n",
    "jobs['Company name']=company_name[0:10]"
   ]
  },
  {
   "cell_type": "code",
   "execution_count": null,
   "id": "21708a78",
   "metadata": {},
   "outputs": [],
   "source": [
    "jobs"
   ]
  },
  {
   "cell_type": "code",
   "execution_count": null,
   "id": "3dedb71a",
   "metadata": {},
   "outputs": [],
   "source": []
  },
  {
   "cell_type": "markdown",
   "id": "5afc38e1",
   "metadata": {},
   "source": [
    "# Python program to scrape data using the filters available on the webpage "
   ]
  },
  {
   "cell_type": "code",
   "execution_count": null,
   "id": "c734ed31",
   "metadata": {},
   "outputs": [],
   "source": [
    "!pip install selenium"
   ]
  },
  {
   "cell_type": "code",
   "execution_count": null,
   "id": "21308ac0",
   "metadata": {},
   "outputs": [],
   "source": [
    "import selenium\n",
    "import pandas as pd\n",
    "from selenium import webdriver\n",
    "import warnings\n",
    "warnings.filterwarnings('ignore')\n",
    "import time"
   ]
  },
  {
   "cell_type": "code",
   "execution_count": null,
   "id": "c2ad60cb",
   "metadata": {},
   "outputs": [],
   "source": [
    "driver=webdriver.Chrome('chromedriver.exe')"
   ]
  },
  {
   "cell_type": "code",
   "execution_count": null,
   "id": "31deeca5",
   "metadata": {},
   "outputs": [],
   "source": [
    "driver.get('https://www.naukri.com/')"
   ]
  },
  {
   "cell_type": "code",
   "execution_count": null,
   "id": "d8dc9188",
   "metadata": {},
   "outputs": [],
   "source": [
    "search_field_designation=driver.find_element_by_class_name(\"suggestor-input \")\n",
    "search_field_designation.send_keys('Data Scientist')"
   ]
  },
  {
   "cell_type": "code",
   "execution_count": null,
   "id": "f66b7614",
   "metadata": {},
   "outputs": [],
   "source": [
    "search_button=driver.find_element_by_xpath(\"/html/body/div/div[2]/div[3]/div/div/div[6]\")\n",
    "search_button.click()"
   ]
  },
  {
   "cell_type": "code",
   "execution_count": null,
   "id": "55eef088",
   "metadata": {},
   "outputs": [],
   "source": [
    "job_title=[]\n",
    "job_location=[]\n",
    "company_name=[]\n",
    "experience_required=[]"
   ]
  },
  {
   "cell_type": "code",
   "execution_count": null,
   "id": "b4c4c6e1",
   "metadata": {},
   "outputs": [],
   "source": [
    "title_tags=driver.find_elements_by_xpath(\"//a[@class='title fw500 ellipsis']\")\n",
    "title_tags[0:10]"
   ]
  },
  {
   "cell_type": "code",
   "execution_count": null,
   "id": "0f832610",
   "metadata": {},
   "outputs": [],
   "source": [
    "for i in title_tags:\n",
    "    title=i.text\n",
    "    job_title.append(title)\n",
    "job_title[0:10]"
   ]
  },
  {
   "cell_type": "code",
   "execution_count": null,
   "id": "e6e18f9d",
   "metadata": {},
   "outputs": [],
   "source": [
    "location_tags=driver.find_elements_by_xpath(\"//li[@class='fleft grey-text br2 placeHolderLi location']\")\n",
    "location_tags[0:10]"
   ]
  },
  {
   "cell_type": "code",
   "execution_count": null,
   "id": "006502bc",
   "metadata": {},
   "outputs": [],
   "source": [
    "for i in location_tags:\n",
    "    location=i.text\n",
    "    job_location.append(location)\n",
    "job_location[0:10]"
   ]
  },
  {
   "cell_type": "code",
   "execution_count": null,
   "id": "89e5a327",
   "metadata": {},
   "outputs": [],
   "source": [
    "company_tags=driver.find_elements_by_xpath(\"//a[@class='subTitle ellipsis fleft']\")\n",
    "company_tags[0:10]"
   ]
  },
  {
   "cell_type": "code",
   "execution_count": null,
   "id": "b17a18d9",
   "metadata": {},
   "outputs": [],
   "source": [
    "for i in company_tags:\n",
    "    company=i.text\n",
    "    company_name.append(company)\n",
    "company_name[0:10]"
   ]
  },
  {
   "cell_type": "code",
   "execution_count": null,
   "id": "4968640b",
   "metadata": {},
   "outputs": [],
   "source": [
    "experience_tags=driver.find_elements_by_xpath(\"//li[@class='fleft grey-text br2 placeHolderLi experience']\")\n",
    "experience_tags[0:10]"
   ]
  },
  {
   "cell_type": "code",
   "execution_count": null,
   "id": "8ad8e997",
   "metadata": {},
   "outputs": [],
   "source": [
    "for i in experience_tags:\n",
    "    experience=i.text\n",
    "    experience_required.append(experience)\n",
    "experience_required[0:10]"
   ]
  },
  {
   "cell_type": "code",
   "execution_count": null,
   "id": "17278982",
   "metadata": {},
   "outputs": [],
   "source": [
    "jobs=pd.DataFrame({})\n",
    "jobs['Job title']=job_title[0:10]\n",
    "jobs['Location']=job_location[0:10]\n",
    "jobs['Company_name']=company_name[0:10]\n",
    "jobs['Experience']=experience_required[0:10]"
   ]
  },
  {
   "cell_type": "code",
   "execution_count": null,
   "id": "1c77fab9",
   "metadata": {},
   "outputs": [],
   "source": [
    "jobs"
   ]
  },
  {
   "cell_type": "code",
   "execution_count": null,
   "id": "fb48d339",
   "metadata": {},
   "outputs": [],
   "source": []
  },
  {
   "cell_type": "markdown",
   "id": "27075d5b",
   "metadata": {},
   "source": [
    "# Python program to scrape data for first 10 job results for Data Scientist Designation in Noida location through ambitionbox.com webpage"
   ]
  },
  {
   "cell_type": "code",
   "execution_count": null,
   "id": "31b94795",
   "metadata": {},
   "outputs": [],
   "source": [
    "!pip install selenium"
   ]
  },
  {
   "cell_type": "code",
   "execution_count": null,
   "id": "0e9c99b5",
   "metadata": {},
   "outputs": [],
   "source": [
    "import selenium\n",
    "import pandas as pd\n",
    "from selenium import webdriver\n",
    "import warnings\n",
    "warnings.filterwarnings('ignore')\n",
    "import time"
   ]
  },
  {
   "cell_type": "code",
   "execution_count": null,
   "id": "8e6d3228",
   "metadata": {},
   "outputs": [],
   "source": [
    "driver=webdriver.Chrome(\"chromedriver.exe\")"
   ]
  },
  {
   "cell_type": "code",
   "execution_count": null,
   "id": "1f135dca",
   "metadata": {},
   "outputs": [],
   "source": [
    "driver.get('https://www.ambitionbox.com/')"
   ]
  },
  {
   "cell_type": "code",
   "execution_count": null,
   "id": "708d2c31",
   "metadata": {},
   "outputs": [],
   "source": [
    "job_option=driver.find_element_by_xpath('/html/body/div[1]/nav/nav/a[6]')\n",
    "job_option.click()"
   ]
  },
  {
   "cell_type": "code",
   "execution_count": null,
   "id": "258c330d",
   "metadata": {},
   "outputs": [],
   "source": [
    "search_field_designation=driver.find_element_by_xpath('/html/body/div/div/div/div[2]/div[1]/div[1]/div/div/div/div/span/input')\n",
    "search_field_designation.send_keys(\"Data Scientist\")"
   ]
  },
  {
   "cell_type": "code",
   "execution_count": null,
   "id": "f0981d92",
   "metadata": {},
   "outputs": [],
   "source": [
    "search_button=driver.find_element_by_xpath('/html/body/div/div/div/div[2]/div[1]/div[1]/div/div/div/button')\n",
    "search_button.click()"
   ]
  },
  {
   "cell_type": "code",
   "execution_count": null,
   "id": "8122c54c",
   "metadata": {},
   "outputs": [],
   "source": [
    "company_name=[]\n",
    "job_posted=[]\n",
    "rating_of_company=[]"
   ]
  },
  {
   "cell_type": "code",
   "execution_count": null,
   "id": "07907c2f",
   "metadata": {},
   "outputs": [],
   "source": [
    "company_tags=driver.find_elements_by_xpath(\"//p[@class='company body-medium']\")\n",
    "company_tags[0:10]"
   ]
  },
  {
   "cell_type": "code",
   "execution_count": null,
   "id": "2586c241",
   "metadata": {},
   "outputs": [],
   "source": [
    "for i in company_tags:\n",
    "    company=i.text\n",
    "    company_name.append(company)\n",
    "company_name[0:10]"
   ]
  },
  {
   "cell_type": "code",
   "execution_count": null,
   "id": "6a253f89",
   "metadata": {},
   "outputs": [],
   "source": [
    "posted_date=driver.find_elements_by_xpath(\"//span[@class='body-small-l']\")\n",
    "posted_date[0:10]"
   ]
  },
  {
   "cell_type": "code",
   "execution_count": null,
   "id": "4762a2f8",
   "metadata": {},
   "outputs": [],
   "source": [
    "for i in posted_date:\n",
    "    posted=i.text\n",
    "    job_posted.append(posted)\n",
    "job_posted[0:20]"
   ]
  },
  {
   "cell_type": "code",
   "execution_count": null,
   "id": "2acb8c49",
   "metadata": {},
   "outputs": [],
   "source": [
    "rating_tags=driver.find_elements_by_xpath(\"//span[@class='body-small']\")\n",
    "rating_tags[0:10]"
   ]
  },
  {
   "cell_type": "code",
   "execution_count": null,
   "id": "3017481c",
   "metadata": {},
   "outputs": [],
   "source": [
    "for i in rating_tags:\n",
    "    rating=i.text\n",
    "    rating_of_company.append(rating)\n",
    "rating_of_company[0:10]"
   ]
  },
  {
   "cell_type": "code",
   "execution_count": null,
   "id": "ecc8d293",
   "metadata": {},
   "outputs": [],
   "source": [
    "print(len(company_name),len(job_posted),len(rating_of_company))"
   ]
  },
  {
   "cell_type": "code",
   "execution_count": null,
   "id": "8a594d9f",
   "metadata": {},
   "outputs": [],
   "source": [
    "#Making DataFrame\n",
    "jobs=pd.DataFrame({})\n",
    "jobs['Company name']=company_name[0:10]\n",
    "jobs['Job posted date']=job_posted[0:10]\n",
    "jobs['Rating of company']=rating_of_company[0:10]"
   ]
  },
  {
   "cell_type": "code",
   "execution_count": null,
   "id": "3c283d37",
   "metadata": {},
   "outputs": [],
   "source": [
    "jobs"
   ]
  },
  {
   "cell_type": "code",
   "execution_count": null,
   "id": "465297f6",
   "metadata": {},
   "outputs": [],
   "source": []
  },
  {
   "cell_type": "markdown",
   "id": "ee90a545",
   "metadata": {},
   "source": [
    "# Python program to scrape the salary data for Data Scientist designation"
   ]
  },
  {
   "cell_type": "code",
   "execution_count": null,
   "id": "25d990e8",
   "metadata": {},
   "outputs": [],
   "source": [
    "!pip install selenium"
   ]
  },
  {
   "cell_type": "code",
   "execution_count": null,
   "id": "91c91896",
   "metadata": {},
   "outputs": [],
   "source": [
    "import selenium\n",
    "import pandas as pd\n",
    "from selenium import webdriver\n",
    "import warnings\n",
    "warnings.filterwarnings('ignore')\n",
    "import time"
   ]
  },
  {
   "cell_type": "code",
   "execution_count": null,
   "id": "175bec29",
   "metadata": {},
   "outputs": [],
   "source": [
    "driver=webdriver.Chrome('chromedriver.exe')"
   ]
  },
  {
   "cell_type": "code",
   "execution_count": null,
   "id": "8e60a894",
   "metadata": {},
   "outputs": [],
   "source": [
    "driver.get('https://www.ambitionbox.com/')"
   ]
  },
  {
   "cell_type": "code",
   "execution_count": null,
   "id": "80cb3fe1",
   "metadata": {},
   "outputs": [],
   "source": [
    "salary_option=driver.find_element_by_xpath('/html/body/div[1]/nav/nav/a[4]')\n",
    "salary_option.click()"
   ]
  },
  {
   "cell_type": "code",
   "execution_count": null,
   "id": "ea620fdf",
   "metadata": {},
   "outputs": [],
   "source": [
    "search_field_designation=driver.find_element_by_xpath('/html/body/div/div/div/main/section[1]/div[2]/div[1]/span/input')\n",
    "search_field_designation.send_keys('Data Scientist')"
   ]
  },
  {
   "cell_type": "code",
   "execution_count": null,
   "id": "917eeca6",
   "metadata": {},
   "outputs": [],
   "source": [
    "company_name=[]\n",
    "no_of_salaries=[]\n",
    "experience_required=[]\n",
    "min_salary=[]\n",
    "avg_salary=[]\n",
    "max_salary=[]"
   ]
  },
  {
   "cell_type": "code",
   "execution_count": null,
   "id": "207b58e8",
   "metadata": {},
   "outputs": [],
   "source": [
    "company_tags=driver.find_elements_by_xpath(\"//div[@class='name']\")\n",
    "company_tags[0:10]"
   ]
  },
  {
   "cell_type": "code",
   "execution_count": null,
   "id": "67468f26",
   "metadata": {},
   "outputs": [],
   "source": [
    "for i in company_tags:\n",
    "    company=i.text\n",
    "    company_name.append(company)\n",
    "company_name[0:10]"
   ]
  },
  {
   "cell_type": "code",
   "execution_count": null,
   "id": "05656962",
   "metadata": {},
   "outputs": [],
   "source": [
    "experience_tags=driver.find_elements_by_xpath(\"//div[@class='salaries sbold-list-header']\")\n",
    "experience_tags[0:10]"
   ]
  },
  {
   "cell_type": "code",
   "execution_count": null,
   "id": "f0ba4d3e",
   "metadata": {},
   "outputs": [],
   "source": [
    "for i in experience_tags:\n",
    "    experience=i.text\n",
    "    experience_required.append(experience)\n",
    "experience_required[0:10]"
   ]
  },
  {
   "cell_type": "code",
   "execution_count": null,
   "id": "d815b424",
   "metadata": {},
   "outputs": [],
   "source": [
    "min_tags=driver.find_elements_by_xpath('//div[@class=\"value body-medium\"]')\n",
    "min_tags[0:10]"
   ]
  },
  {
   "cell_type": "code",
   "execution_count": null,
   "id": "c22e7b5b",
   "metadata": {},
   "outputs": [],
   "source": [
    "for i in min_tags:\n",
    "    min=i.text\n",
    "    min_salary.append(min)\n",
    "min_salary[0:10]"
   ]
  },
  {
   "cell_type": "code",
   "execution_count": null,
   "id": "8b0a2865",
   "metadata": {},
   "outputs": [],
   "source": [
    "avg_tags=driver.find_elements_by_xpath(\"//p[@class='averageCtc']\")\n",
    "avg_tags[0:10]"
   ]
  },
  {
   "cell_type": "code",
   "execution_count": null,
   "id": "9e253906",
   "metadata": {},
   "outputs": [],
   "source": [
    "for i in avg_tags:\n",
    "    avg=i.text\n",
    "    avg_salary.append(avg)\n",
    "avg_salary[0:10]"
   ]
  },
  {
   "cell_type": "code",
   "execution_count": null,
   "id": "28d9d574",
   "metadata": {},
   "outputs": [],
   "source": [
    "jobs=pd.DataFrame({})\n",
    "jobs['Company name & No of salaries']=company_name[0:10]\n",
    "jobs['Experience']=experience_required[0:10]\n",
    "jobs['Min salary']=min_salary[0:10]\n",
    "jobs['Average salary']=avg_salary[0:10]"
   ]
  },
  {
   "cell_type": "code",
   "execution_count": null,
   "id": "b585e57c",
   "metadata": {},
   "outputs": [],
   "source": [
    "jobs"
   ]
  },
  {
   "cell_type": "code",
   "execution_count": null,
   "id": "59aed46c",
   "metadata": {},
   "outputs": [],
   "source": []
  },
  {
   "cell_type": "markdown",
   "id": "4aa52507",
   "metadata": {},
   "source": [
    "# Scrape data of first 100 sunglasses listings on flipkart.com. You have to scrape four attributes"
   ]
  },
  {
   "cell_type": "code",
   "execution_count": null,
   "id": "3f2cd5da",
   "metadata": {},
   "outputs": [],
   "source": [
    "!pip install selenium"
   ]
  },
  {
   "cell_type": "code",
   "execution_count": null,
   "id": "805b6806",
   "metadata": {},
   "outputs": [],
   "source": [
    "import selenium\n",
    "import pandas as pd\n",
    "from selenium import webdriver\n",
    "import warnings\n",
    "warnings.filterwarnings('ignore')\n",
    "import time"
   ]
  },
  {
   "cell_type": "code",
   "execution_count": null,
   "id": "67484fb9",
   "metadata": {},
   "outputs": [],
   "source": [
    "driver=webdriver.Chrome('chromedriver.exe')"
   ]
  },
  {
   "cell_type": "code",
   "execution_count": null,
   "id": "9b216f14",
   "metadata": {},
   "outputs": [],
   "source": [
    "driver.get('https://www.flipkart.com/')"
   ]
  },
  {
   "cell_type": "code",
   "execution_count": null,
   "id": "ee495075",
   "metadata": {},
   "outputs": [],
   "source": [
    "search_field_product=driver.find_element_by_class_name(\"_3704LK\")\n",
    "search_field_product.send_keys('Sunglasses')"
   ]
  },
  {
   "cell_type": "code",
   "execution_count": null,
   "id": "52894d07",
   "metadata": {},
   "outputs": [],
   "source": [
    "search_button=driver.find_element_by_xpath(\"//button[@class='L0Z3Pu']\")\n",
    "search_button.click()"
   ]
  },
  {
   "cell_type": "code",
   "execution_count": null,
   "id": "4a1a23ff",
   "metadata": {},
   "outputs": [],
   "source": [
    "brand=[]\n",
    "product=[]\n",
    "price=[]"
   ]
  },
  {
   "cell_type": "code",
   "execution_count": null,
   "id": "2a9b8e83",
   "metadata": {},
   "outputs": [],
   "source": [
    "brand_tags=driver.find_elements_by_xpath(\"//div[@class='_2WkVRV']\")\n",
    "brand_tags[0:40]"
   ]
  },
  {
   "cell_type": "code",
   "execution_count": null,
   "id": "a26bc0d4",
   "metadata": {},
   "outputs": [],
   "source": [
    "for i in brand_tags:\n",
    "    brand_list=i.text\n",
    "    brand.append(brand_list)\n",
    "brand[0:40]"
   ]
  },
  {
   "cell_type": "code",
   "execution_count": null,
   "id": "0345d940",
   "metadata": {},
   "outputs": [],
   "source": [
    "product_tags=driver.find_elements_by_xpath(\"//a[@class='IRpwTa']\")\n",
    "product_tags[0:40]"
   ]
  },
  {
   "cell_type": "code",
   "execution_count": null,
   "id": "cb2a4229",
   "metadata": {},
   "outputs": [],
   "source": [
    "for i in product_tags:\n",
    "    product_description=i.text\n",
    "    product.append(product_description)\n",
    "product[0:40]"
   ]
  },
  {
   "cell_type": "code",
   "execution_count": null,
   "id": "c369176d",
   "metadata": {},
   "outputs": [],
   "source": [
    "price_tags=driver.find_elements_by_xpath(\"//div[@class='_30jeq3']\")\n",
    "price_tags[0:40]"
   ]
  },
  {
   "cell_type": "code",
   "execution_count": null,
   "id": "98edf830",
   "metadata": {},
   "outputs": [],
   "source": [
    "for i in price_tags:\n",
    "    price_list=i.text\n",
    "    price.append(price_list)\n",
    "price[0:40]"
   ]
  },
  {
   "cell_type": "code",
   "execution_count": null,
   "id": "5e777fbe",
   "metadata": {},
   "outputs": [],
   "source": [
    "df1=pd.DataFrame({})\n",
    "df1['Brand']=brand[0:40]\n",
    "df1['Product description']=product[0:40]\n",
    "df1['Price']=price[0:40]"
   ]
  },
  {
   "cell_type": "code",
   "execution_count": null,
   "id": "fcbb113f",
   "metadata": {},
   "outputs": [],
   "source": [
    "df1"
   ]
  },
  {
   "cell_type": "code",
   "execution_count": null,
   "id": "7163727b",
   "metadata": {},
   "outputs": [],
   "source": [
    "# 41 to 80\n",
    "next_button=driver.find_element_by_xpath(\"//a[@class='ge-49M']\")\n",
    "next_button.click()"
   ]
  },
  {
   "cell_type": "code",
   "execution_count": null,
   "id": "ea993689",
   "metadata": {},
   "outputs": [],
   "source": [
    "brand2=[]\n",
    "product2=[]\n",
    "price2=[]"
   ]
  },
  {
   "cell_type": "code",
   "execution_count": null,
   "id": "dca075b4",
   "metadata": {},
   "outputs": [],
   "source": [
    "brand_tags2=driver.find_elements_by_xpath(\"//div[@class='_2WkVRV']\")\n",
    "brand_tags2[0:40]"
   ]
  },
  {
   "cell_type": "code",
   "execution_count": null,
   "id": "d8f3e91a",
   "metadata": {},
   "outputs": [],
   "source": [
    "for i in brand_tags2:\n",
    "    brand_2_text=i.text\n",
    "    brand2.append(brand_2_text)\n",
    "brand2[0:40]"
   ]
  },
  {
   "cell_type": "code",
   "execution_count": null,
   "id": "1d90dc82",
   "metadata": {},
   "outputs": [],
   "source": [
    "product_tags2=driver.find_elements_by_xpath(\"//a[@class='IRpwTa']\")\n",
    "product_tags2[0:40]"
   ]
  },
  {
   "cell_type": "code",
   "execution_count": null,
   "id": "2e1a5e37",
   "metadata": {},
   "outputs": [],
   "source": [
    "for i in product_tags2:\n",
    "    product_2_text=i.text\n",
    "    product2.append( product_2_text)\n",
    "product2[0:40]"
   ]
  },
  {
   "cell_type": "code",
   "execution_count": null,
   "id": "6e3f1cdf",
   "metadata": {},
   "outputs": [],
   "source": [
    "price_tags2=driver.find_elements_by_xpath(\"//div[@class='_30jeq3']\")\n",
    "price_tags2[0:40]"
   ]
  },
  {
   "cell_type": "code",
   "execution_count": null,
   "id": "e1108dea",
   "metadata": {},
   "outputs": [],
   "source": [
    "for i in price_tags2:\n",
    "    price_2_text=i.text\n",
    "    price2.append(price_2_text)\n",
    "price2[0:40]"
   ]
  },
  {
   "cell_type": "code",
   "execution_count": null,
   "id": "0d877f9f",
   "metadata": {},
   "outputs": [],
   "source": [
    "df2=pd.DataFrame({})\n",
    "df2['Brand2']=brand2[0:39]\n",
    "df2['Product2']=product2[0:39]\n",
    "df2['Price2']=price2[0:39]"
   ]
  },
  {
   "cell_type": "code",
   "execution_count": null,
   "id": "2304d244",
   "metadata": {},
   "outputs": [],
   "source": [
    "df2"
   ]
  },
  {
   "cell_type": "code",
   "execution_count": null,
   "id": "0b121dc4",
   "metadata": {},
   "outputs": [],
   "source": [
    "# 79 to 100\n",
    "next_button2=driver.find_element_by_xpath(\"/html/body/div[1]/div/div[3]/div[1]/div[2]/div[12]/div/div/nav/a[4]\")\n",
    "next_button2.click()"
   ]
  },
  {
   "cell_type": "code",
   "execution_count": null,
   "id": "575ffafc",
   "metadata": {},
   "outputs": [],
   "source": [
    "brand3=[]\n",
    "product3=[]\n",
    "price3=[]"
   ]
  },
  {
   "cell_type": "code",
   "execution_count": null,
   "id": "410ae521",
   "metadata": {},
   "outputs": [],
   "source": [
    "brand_tags3=driver.find_elements_by_xpath(\"//div[@class='_2WkVRV']\")\n",
    "brand_tags3[0:40]"
   ]
  },
  {
   "cell_type": "code",
   "execution_count": null,
   "id": "e5a53c50",
   "metadata": {},
   "outputs": [],
   "source": [
    "for i in brand_tags3:\n",
    "    brand_3_text=i.text\n",
    "    brand3.append( brand_3_text)\n",
    "brand3[0:20]"
   ]
  },
  {
   "cell_type": "code",
   "execution_count": null,
   "id": "1bb3c412",
   "metadata": {},
   "outputs": [],
   "source": [
    "product_tags3=driver.find_elements_by_xpath(\"//a[@class='IRpwTa']\")\n",
    "product_tags3[0:20]"
   ]
  },
  {
   "cell_type": "code",
   "execution_count": null,
   "id": "0da65dfa",
   "metadata": {},
   "outputs": [],
   "source": [
    "for i in product_tags3:\n",
    "    product_3_text=i.text\n",
    "    product3.append(product_3_text)\n",
    "product3[0:20]"
   ]
  },
  {
   "cell_type": "code",
   "execution_count": null,
   "id": "d2a69f7a",
   "metadata": {},
   "outputs": [],
   "source": [
    "price_tags3=driver.find_elements_by_xpath(\"//div[@class='_30jeq3']\")\n",
    "price_tags3[0:20]"
   ]
  },
  {
   "cell_type": "code",
   "execution_count": null,
   "id": "527edf1a",
   "metadata": {},
   "outputs": [],
   "source": [
    "for i in price_tags3:\n",
    "    price_3_text=i.text\n",
    "    price3.append(price_3_text)\n",
    "price3[0:20]"
   ]
  },
  {
   "cell_type": "code",
   "execution_count": null,
   "id": "bbd0875b",
   "metadata": {},
   "outputs": [],
   "source": [
    "df3=pd.DataFrame({})\n",
    "df3['Brand 3']=brand3[0:20]\n",
    "df3['Product 3']=product3[0:20]\n",
    "df3['Price 3']=price3[0:20]"
   ]
  },
  {
   "cell_type": "code",
   "execution_count": null,
   "id": "13fd715b",
   "metadata": {},
   "outputs": [],
   "source": []
  },
  {
   "cell_type": "markdown",
   "id": "0fab1056",
   "metadata": {},
   "source": [
    "# Scrape 100 reviews data from flipkart.com for iphone11 phone"
   ]
  },
  {
   "cell_type": "code",
   "execution_count": null,
   "id": "49551c9b",
   "metadata": {},
   "outputs": [],
   "source": [
    "!pip install selenium"
   ]
  },
  {
   "cell_type": "code",
   "execution_count": null,
   "id": "8f5ab0e0",
   "metadata": {},
   "outputs": [],
   "source": [
    "import selenium\n",
    "import pandas as pd\n",
    "from selenium import webdriver\n",
    "import warnings\n",
    "warnings.filterwarnings('ignore')\n",
    "import time"
   ]
  },
  {
   "cell_type": "code",
   "execution_count": null,
   "id": "df1653f7",
   "metadata": {},
   "outputs": [],
   "source": [
    "driver=webdriver.Chrome('chromedriver.exe')"
   ]
  },
  {
   "cell_type": "code",
   "execution_count": null,
   "id": "a4da5718",
   "metadata": {},
   "outputs": [],
   "source": [
    "driver.get('https://www.flipkart.com/apple-iphone-11-black-64-gb-includes- earpods-power- adapter/p/itm0f37c2240b217?pid=MOBFKCTSVZAXUHGR&lid=LSTMOBFKC TSVZAXUHGREPBFGI&marketplace')"
   ]
  },
  {
   "cell_type": "code",
   "execution_count": null,
   "id": "85a27ab1",
   "metadata": {},
   "outputs": [],
   "source": [
    "rating_list=[]\n",
    "review_list=[]\n",
    "full_review_list=[]"
   ]
  },
  {
   "cell_type": "code",
   "execution_count": null,
   "id": "61a12b89",
   "metadata": {},
   "outputs": [],
   "source": [
    "all_review_button=driver.find_element_by_xpath(\"/html/body/div[1]/div/div[3]/div[1]/div[2]/div[9]/div/div/div[5]/div/a/div\")\n",
    "all_review_button.click()"
   ]
  },
  {
   "cell_type": "code",
   "execution_count": null,
   "id": "438b7969",
   "metadata": {},
   "outputs": [],
   "source": [
    "rating_tags=driver.find_elements_by_xpath(\"//div[@class='_3LWZlK _1BLPMq']\")\n",
    "rating_tags[0:10]"
   ]
  },
  {
   "cell_type": "code",
   "execution_count": null,
   "id": "797fbd3a",
   "metadata": {},
   "outputs": [],
   "source": [
    "for i in rating_tags:\n",
    "    rating=i.text\n",
    "    rating_list.append(rating)\n",
    "rating_list[0:10]"
   ]
  },
  {
   "cell_type": "code",
   "execution_count": null,
   "id": "756abec0",
   "metadata": {},
   "outputs": [],
   "source": [
    "review_summary_tags=driver.find_elements_by_xpath(\"//p[@class='_2-N8zT']\")\n",
    "review_summary_tags[0:10]"
   ]
  },
  {
   "cell_type": "code",
   "execution_count": null,
   "id": "18cf3dcd",
   "metadata": {},
   "outputs": [],
   "source": [
    "for i in review_summary_tags:\n",
    "    review=i.text\n",
    "    review_list.append(review)\n",
    "review_list[0:10]"
   ]
  },
  {
   "cell_type": "code",
   "execution_count": null,
   "id": "700f3247",
   "metadata": {},
   "outputs": [],
   "source": [
    "full_review_tags=driver.find_elements_by_xpath(\"//div[@class='t-ZTKy']\")\n",
    "full_review_tags[0:10]"
   ]
  },
  {
   "cell_type": "code",
   "execution_count": null,
   "id": "7611f4ba",
   "metadata": {},
   "outputs": [],
   "source": [
    "for i in full_review_tags:\n",
    "    full=i.text\n",
    "    full_review_list.append(full)\n",
    "full_review_list[0:10]"
   ]
  },
  {
   "cell_type": "code",
   "execution_count": null,
   "id": "1ea2e852",
   "metadata": {},
   "outputs": [],
   "source": [
    "rating_list2=[]\n",
    "review_list2=[]\n",
    "full_review_list2=[]"
   ]
  },
  {
   "cell_type": "code",
   "execution_count": null,
   "id": "cc55ec81",
   "metadata": {},
   "outputs": [],
   "source": [
    "next_button2=driver.find_element_by_xpath(\"/html/body/div[1]/div/div[3]/div/div/div[2]/div[13]/div/div/nav/a[2]\")\n",
    "next_button2.click()"
   ]
  },
  {
   "cell_type": "code",
   "execution_count": null,
   "id": "1e18387b",
   "metadata": {},
   "outputs": [],
   "source": [
    "rating_tags2=driver.find_elements_by_xpath(\"//div[@class='_3LWZlK _1BLPMq']\")\n",
    "rating_tags2[0:10]"
   ]
  },
  {
   "cell_type": "code",
   "execution_count": null,
   "id": "a640b909",
   "metadata": {},
   "outputs": [],
   "source": [
    "for i in rating_tags2:\n",
    "    rating2=i.text\n",
    "    rating_list2.append(rating2)\n",
    "rating_list2[0:10]"
   ]
  },
  {
   "cell_type": "code",
   "execution_count": null,
   "id": "637ff510",
   "metadata": {},
   "outputs": [],
   "source": [
    "review_summary_tags2=driver.find_elements_by_xpath(\"//p[@class='_2-N8zT']\")\n",
    "review_summary_tags2[0:10]"
   ]
  },
  {
   "cell_type": "code",
   "execution_count": null,
   "id": "ad3fe25c",
   "metadata": {},
   "outputs": [],
   "source": [
    "for i in review_summary_tags2:\n",
    "    review2=i.text\n",
    "    review_list2.append(review)\n",
    "review_list2[0:10]"
   ]
  },
  {
   "cell_type": "code",
   "execution_count": null,
   "id": "55b7dd94",
   "metadata": {},
   "outputs": [],
   "source": [
    "full_review_tags2=driver.find_elements_by_xpath(\"//div[@class='t-ZTKy']\")\n",
    "full_review_tags2[0:10]"
   ]
  },
  {
   "cell_type": "code",
   "execution_count": null,
   "id": "d01c8965",
   "metadata": {},
   "outputs": [],
   "source": [
    "for i in full_review_tags2:\n",
    "    full2=i.text\n",
    "    full_review_list2.append(full2)\n",
    "full_review_list2[0:10]"
   ]
  },
  {
   "cell_type": "code",
   "execution_count": null,
   "id": "b1741dea",
   "metadata": {},
   "outputs": [],
   "source": [
    "rating_list3=[]\n",
    "review_list3=[]\n",
    "full_review_list3=[]"
   ]
  },
  {
   "cell_type": "code",
   "execution_count": null,
   "id": "bde3c5d6",
   "metadata": {},
   "outputs": [],
   "source": [
    "next_button2=driver.find_element_by_xpath(\"/html/body/div[1]/div/div[3]/div/div/div[2]/div[13]/div/div/nav/a[3]\")\n",
    "next_button2.click()"
   ]
  },
  {
   "cell_type": "code",
   "execution_count": null,
   "id": "1c2a4f3e",
   "metadata": {},
   "outputs": [],
   "source": [
    "rating_tags3=driver.find_elements_by_xpath(\"//div[@class='_3LWZlK _1BLPMq']\")\n",
    "rating_tags3[0:10]"
   ]
  },
  {
   "cell_type": "code",
   "execution_count": null,
   "id": "e2ef3812",
   "metadata": {},
   "outputs": [],
   "source": [
    "for i in rating_tags3:\n",
    "    rating3=i.text\n",
    "    rating_list3.append(rating3)\n",
    "rating_list3[0:10]"
   ]
  },
  {
   "cell_type": "code",
   "execution_count": null,
   "id": "e04efd58",
   "metadata": {},
   "outputs": [],
   "source": [
    "review_summary_tags3=driver.find_elements_by_xpath(\"//p[@class='_2-N8zT']\")\n",
    "review_summary_tags3[0:10]"
   ]
  },
  {
   "cell_type": "code",
   "execution_count": null,
   "id": "14c6d523",
   "metadata": {},
   "outputs": [],
   "source": [
    "for i in review_summary_tags3:\n",
    "    review3=i.text\n",
    "    review_list3.append(review3)\n",
    "review_list3[0:10]"
   ]
  },
  {
   "cell_type": "code",
   "execution_count": null,
   "id": "4f7a86e9",
   "metadata": {},
   "outputs": [],
   "source": [
    "full_review_tags3=driver.find_elements_by_xpath(\"//div[@class='t-ZTKy']\")\n",
    "full_review_tags3[0:10]"
   ]
  },
  {
   "cell_type": "code",
   "execution_count": null,
   "id": "6f10728f",
   "metadata": {},
   "outputs": [],
   "source": [
    "for i in full_review_tags3:\n",
    "    full3=i.text\n",
    "    full_review_list3.append(full3)\n",
    "full_review_list3[0:10]"
   ]
  },
  {
   "cell_type": "code",
   "execution_count": null,
   "id": "762c12e1",
   "metadata": {},
   "outputs": [],
   "source": [
    "rating_list4=[]\n",
    "review_list4=[]\n",
    "full_review_list4=[]"
   ]
  },
  {
   "cell_type": "code",
   "execution_count": null,
   "id": "675683d0",
   "metadata": {},
   "outputs": [],
   "source": [
    "next_button4=driver.find_element_by_xpath(\"/html/body/div[1]/div/div[3]/div/div/div[2]/div[13]/div/div/nav/a[5]\")\n",
    "next_button4.click()"
   ]
  },
  {
   "cell_type": "code",
   "execution_count": null,
   "id": "e4b5634b",
   "metadata": {},
   "outputs": [],
   "source": [
    "rating_tags4=driver.find_elements_by_xpath(\"//div[@class='_3LWZlK _1BLPMq']\")\n",
    "rating_tags4[0:10]"
   ]
  },
  {
   "cell_type": "code",
   "execution_count": null,
   "id": "9dc7f161",
   "metadata": {},
   "outputs": [],
   "source": [
    "for i in rating_tags4:\n",
    "    rating4=i.text\n",
    "    rating_list4.append(rating4)\n",
    "rating_list4[0:10]"
   ]
  },
  {
   "cell_type": "code",
   "execution_count": null,
   "id": "937e586e",
   "metadata": {},
   "outputs": [],
   "source": [
    "review_summary_tags4=driver.find_elements_by_xpath(\"//p[@class='_2-N8zT']\")\n",
    "review_summary_tags4[0:10]"
   ]
  },
  {
   "cell_type": "code",
   "execution_count": null,
   "id": "a62db07c",
   "metadata": {},
   "outputs": [],
   "source": [
    "for i in review_summary_tags4:\n",
    "    review4=i.text\n",
    "    review_list4.append(review4)\n",
    "review_list4[0:10]"
   ]
  },
  {
   "cell_type": "code",
   "execution_count": null,
   "id": "84aa48db",
   "metadata": {},
   "outputs": [],
   "source": [
    "full_review_tags4=driver.find_elements_by_xpath(\"//div[@class='t-ZTKy']\")\n",
    "full_review_tags4[0:10]"
   ]
  },
  {
   "cell_type": "code",
   "execution_count": null,
   "id": "a1255a29",
   "metadata": {},
   "outputs": [],
   "source": [
    "for i in full_review_tags4:\n",
    "    full4=i.text\n",
    "    full_review_list4.append(full4)\n",
    "full_review_list4[0:10]"
   ]
  },
  {
   "cell_type": "code",
   "execution_count": null,
   "id": "a9cb263c",
   "metadata": {},
   "outputs": [],
   "source": [
    "rating_list5=[]\n",
    "review_list5=[]\n",
    "full_review_list5=[]"
   ]
  },
  {
   "cell_type": "code",
   "execution_count": null,
   "id": "cbcc7bd7",
   "metadata": {},
   "outputs": [],
   "source": [
    "next_button5=driver.find_element_by_xpath(\"/html/body/div[1]/div/div[3]/div/div/div[2]/div[13]/div/div/nav/a[6]\")\n",
    "next_button5.click()"
   ]
  },
  {
   "cell_type": "code",
   "execution_count": null,
   "id": "ade8ae75",
   "metadata": {},
   "outputs": [],
   "source": [
    "rating_tags5=driver.find_elements_by_xpath(\"//div[@class='_3LWZlK _1BLPMq']\")\n",
    "rating_tags5[0:10]"
   ]
  },
  {
   "cell_type": "code",
   "execution_count": null,
   "id": "adb96058",
   "metadata": {},
   "outputs": [],
   "source": [
    "for i in rating_tags5:\n",
    "    rating5=i.text\n",
    "    rating_list5.append(rating5)\n",
    "rating_list5[0:10]"
   ]
  },
  {
   "cell_type": "code",
   "execution_count": null,
   "id": "45dcf54c",
   "metadata": {},
   "outputs": [],
   "source": [
    "review_summary_tags5=driver.find_elements_by_xpath(\"//p[@class='_2-N8zT']\")\n",
    "review_summary_tags5[0:10]"
   ]
  },
  {
   "cell_type": "code",
   "execution_count": null,
   "id": "f0483c1e",
   "metadata": {},
   "outputs": [],
   "source": [
    "for i in review_summary_tags5:\n",
    "    review5=i.text\n",
    "    review_list5.append(review5)\n",
    "review_list5[0:10]"
   ]
  },
  {
   "cell_type": "code",
   "execution_count": null,
   "id": "5b743e61",
   "metadata": {},
   "outputs": [],
   "source": [
    "full_review_tags5=driver.find_elements_by_xpath(\"//div[@class='t-ZTKy']\")\n",
    "full_review_tags5[0:10]"
   ]
  },
  {
   "cell_type": "code",
   "execution_count": null,
   "id": "2bfad9ce",
   "metadata": {},
   "outputs": [],
   "source": [
    "for i in full_review_tags5:\n",
    "    full5=i.text\n",
    "    full_review_list5.append(full5)\n",
    "full_review_list5[0:10]"
   ]
  },
  {
   "cell_type": "code",
   "execution_count": null,
   "id": "21c31b73",
   "metadata": {},
   "outputs": [],
   "source": [
    "rating_list6=[]\n",
    "review_list6=[]\n",
    "full_review_list6=[]"
   ]
  },
  {
   "cell_type": "code",
   "execution_count": null,
   "id": "f13bb6be",
   "metadata": {},
   "outputs": [],
   "source": [
    "next_button6=driver.find_element_by_xpath(\"/html/body/div[1]/div/div[3]/div/div/div[2]/div[13]/div/div/nav/a[7]\")\n",
    "next_button6.click()"
   ]
  },
  {
   "cell_type": "code",
   "execution_count": null,
   "id": "0e6641f9",
   "metadata": {},
   "outputs": [],
   "source": [
    "rating_tags6=driver.find_elements_by_xpath(\"//div[@class='_3LWZlK _1BLPMq']\")\n",
    "rating_tags6[0:10]"
   ]
  },
  {
   "cell_type": "code",
   "execution_count": null,
   "id": "19fb859e",
   "metadata": {},
   "outputs": [],
   "source": [
    "for i in rating_tags6:\n",
    "    rating6=i.text\n",
    "    rating_list6.append(rating6)\n",
    "rating_list6[0:10]"
   ]
  },
  {
   "cell_type": "code",
   "execution_count": null,
   "id": "d4d7c77b",
   "metadata": {},
   "outputs": [],
   "source": [
    "review_summary_tags6=driver.find_elements_by_xpath(\"//p[@class='_2-N8zT']\")\n",
    "review_summary_tags6[0:10]"
   ]
  },
  {
   "cell_type": "code",
   "execution_count": null,
   "id": "405867be",
   "metadata": {},
   "outputs": [],
   "source": [
    "for i in review_summary_tags6:\n",
    "    review6=i.text\n",
    "    review_list6.append(review6)\n",
    "review_list6[0:10]"
   ]
  },
  {
   "cell_type": "code",
   "execution_count": null,
   "id": "08904890",
   "metadata": {},
   "outputs": [],
   "source": [
    "full_review_tags6=driver.find_elements_by_xpath(\"//div[@class='t-ZTKy']\")\n",
    "full_review_tags6[0:10]"
   ]
  },
  {
   "cell_type": "code",
   "execution_count": null,
   "id": "b788ea16",
   "metadata": {},
   "outputs": [],
   "source": [
    "for i in full_review_tags6:\n",
    "    full6=i.text\n",
    "    full_review_list6.append(full6)\n",
    "full_review_list6[0:10]"
   ]
  },
  {
   "cell_type": "code",
   "execution_count": null,
   "id": "05c6a9e8",
   "metadata": {},
   "outputs": [],
   "source": [
    "rating_list7=[]\n",
    "review_list7=[]\n",
    "full_review_list7=[]"
   ]
  },
  {
   "cell_type": "code",
   "execution_count": null,
   "id": "6add99cb",
   "metadata": {},
   "outputs": [],
   "source": [
    "next_button7=driver.find_element_by_xpath(\"/html/body/div[1]/div/div[3]/div/div/div[2]/div[13]/div/div/nav/a[6]\")\n",
    "next_button7.click()"
   ]
  },
  {
   "cell_type": "code",
   "execution_count": null,
   "id": "505201c2",
   "metadata": {},
   "outputs": [],
   "source": [
    "rating_tags7=driver.find_elements_by_xpath(\"//div[@class='_3LWZlK _1BLPMq']\")\n",
    "rating_tags7[0:10]"
   ]
  },
  {
   "cell_type": "code",
   "execution_count": null,
   "id": "503a85c0",
   "metadata": {},
   "outputs": [],
   "source": [
    "for i in rating_tags7:\n",
    "    rating7=i.text\n",
    "    rating_list7.append(rating7)\n",
    "rating_list7[0:10]"
   ]
  },
  {
   "cell_type": "code",
   "execution_count": null,
   "id": "9ac275f6",
   "metadata": {},
   "outputs": [],
   "source": [
    "review_summary_tags7=driver.find_elements_by_xpath(\"//p[@class='_2-N8zT']\")\n",
    "review_summary_tags7[0:10]"
   ]
  },
  {
   "cell_type": "code",
   "execution_count": null,
   "id": "f0286d5e",
   "metadata": {},
   "outputs": [],
   "source": [
    "for i in review_summary_tags7:\n",
    "    review7=i.text\n",
    "    review_list7.append(review7)\n",
    "review_list7[0:10]"
   ]
  },
  {
   "cell_type": "code",
   "execution_count": null,
   "id": "dac6d0e7",
   "metadata": {},
   "outputs": [],
   "source": [
    "full_review_tags7=driver.find_elements_by_xpath(\"//div[@class='t-ZTKy']\")\n",
    "full_review_tags7[0:10]"
   ]
  },
  {
   "cell_type": "code",
   "execution_count": null,
   "id": "f34449aa",
   "metadata": {},
   "outputs": [],
   "source": [
    "for i in full_review_tags7:\n",
    "    full7=i.text\n",
    "    full_review_list7.append(full7)\n",
    "full_review_list7[0:10]"
   ]
  },
  {
   "cell_type": "code",
   "execution_count": null,
   "id": "d9ba7c9b",
   "metadata": {},
   "outputs": [],
   "source": [
    "rating_list8=[]\n",
    "review_list8=[]\n",
    "full_review_list8=[]"
   ]
  },
  {
   "cell_type": "code",
   "execution_count": null,
   "id": "45498925",
   "metadata": {},
   "outputs": [],
   "source": [
    "next_button8=driver.find_element_by_xpath(\"/html/body/div[1]/div/div[3]/div/div/div[2]/div[13]/div/div/nav/a[7]\")\n",
    "next_button8.click()"
   ]
  },
  {
   "cell_type": "code",
   "execution_count": null,
   "id": "28cf88be",
   "metadata": {},
   "outputs": [],
   "source": [
    "rating_tags8=driver.find_elements_by_xpath(\"//div[@class='_3LWZlK _1BLPMq']\")\n",
    "rating_tags8[0:10]"
   ]
  },
  {
   "cell_type": "code",
   "execution_count": null,
   "id": "8fd7f7e5",
   "metadata": {},
   "outputs": [],
   "source": [
    "for i in rating_tags8:\n",
    "    rating8=i.text\n",
    "    rating_list8.append(rating8)\n",
    "rating_list8[0:10]"
   ]
  },
  {
   "cell_type": "code",
   "execution_count": null,
   "id": "26687f0c",
   "metadata": {},
   "outputs": [],
   "source": [
    "review_summary_tags8=driver.find_elements_by_xpath(\"//p[@class='_2-N8zT']\")\n",
    "review_summary_tags8[0:10]"
   ]
  },
  {
   "cell_type": "code",
   "execution_count": null,
   "id": "8267c0c0",
   "metadata": {},
   "outputs": [],
   "source": [
    "for i in review_summary_tags8:\n",
    "    review8=i.text\n",
    "    review_list8.append(review8)\n",
    "review_list8[0:10]"
   ]
  },
  {
   "cell_type": "code",
   "execution_count": null,
   "id": "f58e692c",
   "metadata": {},
   "outputs": [],
   "source": [
    "full_review_tags8=driver.find_elements_by_xpath(\"//div[@class='t-ZTKy']\")\n",
    "full_review_tags8[0:10]"
   ]
  },
  {
   "cell_type": "code",
   "execution_count": null,
   "id": "f7a9ae95",
   "metadata": {},
   "outputs": [],
   "source": [
    "for i in full_review_tags8:\n",
    "    full8=i.text\n",
    "    full_review_list8.append(full8)\n",
    "full_review_list8[0:10]"
   ]
  },
  {
   "cell_type": "code",
   "execution_count": null,
   "id": "cf93c9f1",
   "metadata": {},
   "outputs": [],
   "source": [
    "rating_list9=[]\n",
    "review_list9=[]\n",
    "full_review_list9=[]"
   ]
  },
  {
   "cell_type": "code",
   "execution_count": null,
   "id": "e06fd027",
   "metadata": {},
   "outputs": [],
   "source": [
    "next_button9=driver.find_element_by_xpath(\"/html/body/div[1]/div/div[3]/div/div/div[2]/div[13]/div/div/nav/a[7]\")\n",
    "next_button9.click()"
   ]
  },
  {
   "cell_type": "code",
   "execution_count": null,
   "id": "d877eda1",
   "metadata": {},
   "outputs": [],
   "source": [
    "rating_tags9=driver.find_elements_by_xpath(\"//div[@class='_3LWZlK _1BLPMq']\")\n",
    "rating_tags9[0:10]"
   ]
  },
  {
   "cell_type": "code",
   "execution_count": null,
   "id": "e7494ca3",
   "metadata": {},
   "outputs": [],
   "source": [
    "for i in rating_tags9:\n",
    "    rating9=i.text\n",
    "    rating_list9.append(rating9)\n",
    "rating_list9[0:10]"
   ]
  },
  {
   "cell_type": "code",
   "execution_count": null,
   "id": "42f44a38",
   "metadata": {},
   "outputs": [],
   "source": [
    "review_summary_tags9=driver.find_elements_by_xpath(\"//p[@class='_2-N8zT']\")\n",
    "review_summary_tags9[0:10]"
   ]
  },
  {
   "cell_type": "code",
   "execution_count": null,
   "id": "f94691a9",
   "metadata": {},
   "outputs": [],
   "source": [
    "for i in review_summary_tags9:\n",
    "    review9=i.text\n",
    "    review_list9.append(review9)\n",
    "review_list9[0:10]"
   ]
  },
  {
   "cell_type": "code",
   "execution_count": null,
   "id": "524cedda",
   "metadata": {},
   "outputs": [],
   "source": [
    "full_review_tags9=driver.find_elements_by_xpath(\"//div[@class='t-ZTKy']\")\n",
    "full_review_tags9[0:10]"
   ]
  },
  {
   "cell_type": "code",
   "execution_count": null,
   "id": "9bffb5b6",
   "metadata": {},
   "outputs": [],
   "source": [
    "for i in full_review_tags9:\n",
    "    full9=i.text\n",
    "    full_review_list9.append(full9)\n",
    "full_review_list9[0:10]"
   ]
  },
  {
   "cell_type": "code",
   "execution_count": null,
   "id": "82207c4f",
   "metadata": {},
   "outputs": [],
   "source": [
    "rating_list10=[]\n",
    "review_list10=[]\n",
    "full_review_list10=[]"
   ]
  },
  {
   "cell_type": "code",
   "execution_count": null,
   "id": "c97bb781",
   "metadata": {},
   "outputs": [],
   "source": [
    "next_button10=driver.find_element_by_xpath(\"/html/body/div[1]/div/div[3]/div/div/div[2]/div[13]/div/div/nav/a[7]\")\n",
    "next_button10.click()"
   ]
  },
  {
   "cell_type": "code",
   "execution_count": null,
   "id": "b739004e",
   "metadata": {},
   "outputs": [],
   "source": [
    "rating_tags10=driver.find_elements_by_xpath(\"//div[@class='_3LWZlK _1BLPMq']\")\n",
    "rating_tags10[0:10]"
   ]
  },
  {
   "cell_type": "code",
   "execution_count": null,
   "id": "0191a1f9",
   "metadata": {},
   "outputs": [],
   "source": [
    "for i in rating_tags10:\n",
    "    rating10=i.text\n",
    "    rating_list10.append(rating10)\n",
    "rating_list10[0:10]"
   ]
  },
  {
   "cell_type": "code",
   "execution_count": null,
   "id": "634982d8",
   "metadata": {},
   "outputs": [],
   "source": [
    "review_summary_tags10=driver.find_elements_by_xpath(\"//p[@class='_2-N8zT']\")\n",
    "review_summary_tags10[0:10]"
   ]
  },
  {
   "cell_type": "code",
   "execution_count": null,
   "id": "9cb488f5",
   "metadata": {},
   "outputs": [],
   "source": [
    "for i in review_summary_tags10:\n",
    "    review10=i.text\n",
    "    review_list10.append(review10)\n",
    "review_list10[0:10]"
   ]
  },
  {
   "cell_type": "code",
   "execution_count": null,
   "id": "f7af8a0e",
   "metadata": {},
   "outputs": [],
   "source": [
    "full_review_tags10=driver.find_elements_by_xpath(\"//div[@class='t-ZTKy']\")\n",
    "full_review_tags10[0:10]"
   ]
  },
  {
   "cell_type": "code",
   "execution_count": null,
   "id": "ed284f7b",
   "metadata": {},
   "outputs": [],
   "source": [
    "for i in full_review_tags10:\n",
    "    full10=i.text\n",
    "    full_review_list10.append(full10)\n",
    "full_review_list10[0:10]"
   ]
  },
  {
   "cell_type": "code",
   "execution_count": null,
   "id": "6b459557",
   "metadata": {},
   "outputs": [],
   "source": []
  },
  {
   "cell_type": "markdown",
   "id": "651d0974",
   "metadata": {},
   "source": [
    "# Scrape data for first 100 sneakers you find when you visit flipkart.com"
   ]
  },
  {
   "cell_type": "code",
   "execution_count": null,
   "id": "932a9d13",
   "metadata": {},
   "outputs": [],
   "source": [
    "!pip install selenium"
   ]
  },
  {
   "cell_type": "code",
   "execution_count": null,
   "id": "44f009e6",
   "metadata": {},
   "outputs": [],
   "source": [
    "import selenium\n",
    "import pandas as pd\n",
    "from selenium import webdriver\n",
    "import warnings\n",
    "warnings.filterwarnings('ignore')\n",
    "import time"
   ]
  },
  {
   "cell_type": "code",
   "execution_count": null,
   "id": "7712569a",
   "metadata": {},
   "outputs": [],
   "source": [
    "driver=webdriver.Chrome('chromedriver.exe')"
   ]
  },
  {
   "cell_type": "code",
   "execution_count": null,
   "id": "046fd577",
   "metadata": {},
   "outputs": [],
   "source": [
    "driver.get('https://www.flipkart.com/')"
   ]
  },
  {
   "cell_type": "code",
   "execution_count": null,
   "id": "dd5541e6",
   "metadata": {},
   "outputs": [],
   "source": [
    "search_field_product=driver.find_element_by_xpath(\"/html/body/div[1]/div/div[1]/div[1]/div[2]/div[2]/form/div/div/input\")\n",
    "search_field_product.send_keys('Sneakers')"
   ]
  },
  {
   "cell_type": "code",
   "execution_count": null,
   "id": "7af78dec",
   "metadata": {},
   "outputs": [],
   "source": [
    "search_button=driver.find_element_by_xpath(\"//button[@class='L0Z3Pu']\")\n",
    "search_button.click()"
   ]
  },
  {
   "cell_type": "code",
   "execution_count": null,
   "id": "29792028",
   "metadata": {},
   "outputs": [],
   "source": [
    "brand_list1=[]\n",
    "product_list1=[]\n",
    "price_list1=[]"
   ]
  },
  {
   "cell_type": "code",
   "execution_count": null,
   "id": "56f0ebb7",
   "metadata": {},
   "outputs": [],
   "source": [
    "#1 to 40\n",
    "brand_tags1=driver.find_elements_by_xpath(\"//div[@class='_2WkVRV']\")\n",
    "brand_tags1[0:40]"
   ]
  },
  {
   "cell_type": "code",
   "execution_count": null,
   "id": "f33a228e",
   "metadata": {},
   "outputs": [],
   "source": [
    "for i in brand_tags1:\n",
    "    brand=i.text\n",
    "    brand_list1.append(brand)\n",
    "brand_list1[0:40]"
   ]
  },
  {
   "cell_type": "code",
   "execution_count": null,
   "id": "0d42d781",
   "metadata": {},
   "outputs": [],
   "source": [
    "product_tags1=driver.find_elements_by_xpath(\"//a[@class='IRpwTa']\")\n",
    "product_tags1[0:40]"
   ]
  },
  {
   "cell_type": "code",
   "execution_count": null,
   "id": "62234485",
   "metadata": {},
   "outputs": [],
   "source": [
    "for i in product_tags1:\n",
    "    product1=i.text\n",
    "    product_list1.append(product1)\n",
    "product_list1[0:40]"
   ]
  },
  {
   "cell_type": "code",
   "execution_count": null,
   "id": "3399b93c",
   "metadata": {},
   "outputs": [],
   "source": [
    "price_tags1=driver.find_elements_by_xpath(\"//div[@class='_30jeq3']\")\n",
    "price_tags1[0:40]"
   ]
  },
  {
   "cell_type": "code",
   "execution_count": null,
   "id": "57ee64c0",
   "metadata": {},
   "outputs": [],
   "source": [
    "for i in price_tags1:\n",
    "    price1=i.text\n",
    "    price_list1.append(price1)\n",
    "price_list1[0:40]"
   ]
  },
  {
   "cell_type": "code",
   "execution_count": null,
   "id": "0caf49c1",
   "metadata": {},
   "outputs": [],
   "source": [
    "df1=pd.DataFrame({})\n",
    "df1['Brand']=brand_list1[0:34]\n",
    "df1['Product']=product_list1[0:34]\n",
    "df1['Price']=price_list1[0:34]"
   ]
  },
  {
   "cell_type": "code",
   "execution_count": null,
   "id": "d718c28f",
   "metadata": {},
   "outputs": [],
   "source": [
    "df1"
   ]
  },
  {
   "cell_type": "code",
   "execution_count": null,
   "id": "a9d4437b",
   "metadata": {},
   "outputs": [],
   "source": [
    "next_button2=driver.find_element_by_xpath(\"/html/body/div[1]/div/div[3]/div[1]/div[2]/div[12]/div/div/nav/a[2]\")\n",
    "next_button2.click()"
   ]
  },
  {
   "cell_type": "code",
   "execution_count": null,
   "id": "14897823",
   "metadata": {},
   "outputs": [],
   "source": [
    "brand_list2=[]\n",
    "product_list2=[]\n",
    "price_list2=[]"
   ]
  },
  {
   "cell_type": "code",
   "execution_count": null,
   "id": "f8c7349a",
   "metadata": {},
   "outputs": [],
   "source": [
    "#41 to 80\n",
    "brand_tags2=driver.find_elements_by_xpath(\"//div[@class='_2WkVRV']\")\n",
    "brand_tags2[0:40]"
   ]
  },
  {
   "cell_type": "code",
   "execution_count": null,
   "id": "2788833a",
   "metadata": {},
   "outputs": [],
   "source": [
    "for i in brand_tags2:\n",
    "    brand2=i.text\n",
    "    brand_list2.append(brand2)\n",
    "brand_list2[0:40]"
   ]
  },
  {
   "cell_type": "code",
   "execution_count": null,
   "id": "34b328a4",
   "metadata": {},
   "outputs": [],
   "source": [
    "product_tags2=driver.find_elements_by_xpath(\"//a[@class='IRpwTa']\")\n",
    "product_tags2[0:40]"
   ]
  },
  {
   "cell_type": "code",
   "execution_count": null,
   "id": "acdb7547",
   "metadata": {},
   "outputs": [],
   "source": [
    "for i in product_tags2:\n",
    "    product2=i.text\n",
    "    product_list2.append(product2)\n",
    "product_list2[0:40]"
   ]
  },
  {
   "cell_type": "code",
   "execution_count": null,
   "id": "7e59e8b8",
   "metadata": {},
   "outputs": [],
   "source": [
    "price_tags2=driver.find_elements_by_xpath(\"//div[@class='_30jeq3']\")\n",
    "price_tags2[0:40]"
   ]
  },
  {
   "cell_type": "code",
   "execution_count": null,
   "id": "46918ddd",
   "metadata": {},
   "outputs": [],
   "source": [
    "for i in price_tags2:\n",
    "    price2=i.text\n",
    "    price_list2.append(price2)\n",
    "price_list2[0:40]"
   ]
  },
  {
   "cell_type": "code",
   "execution_count": null,
   "id": "6bb575f6",
   "metadata": {},
   "outputs": [],
   "source": [
    "df2=pd.DataFrame({})\n",
    "df2['Brand2']=brand_list2[0:33]\n",
    "df2['Product2']=product_list2[0:33]\n",
    "df2['Price']=price_list2[0:33]"
   ]
  },
  {
   "cell_type": "code",
   "execution_count": null,
   "id": "2797a449",
   "metadata": {},
   "outputs": [],
   "source": [
    "df2"
   ]
  },
  {
   "cell_type": "code",
   "execution_count": null,
   "id": "4226fc1d",
   "metadata": {},
   "outputs": [],
   "source": [
    "next_button3=driver.find_element_by_xpath(\"/html/body/div[1]/div/div[3]/div[1]/div[2]/div[12]/div/div/nav/a[4]\")\n",
    "next_button3.click()"
   ]
  },
  {
   "cell_type": "code",
   "execution_count": null,
   "id": "e320006b",
   "metadata": {},
   "outputs": [],
   "source": [
    "brand_list3=[]\n",
    "product_list3=[]\n",
    "price_list3=[]"
   ]
  },
  {
   "cell_type": "code",
   "execution_count": null,
   "id": "6563df8d",
   "metadata": {},
   "outputs": [],
   "source": [
    "#81to100\n",
    "brand_tags3=driver.find_elements_by_xpath(\"//div[@class='_2WkVRV']\")\n",
    "brand_tags3[0:40]"
   ]
  },
  {
   "cell_type": "code",
   "execution_count": null,
   "id": "e2e3cac4",
   "metadata": {},
   "outputs": [],
   "source": [
    "for i in brand_tags3:\n",
    "    brand3=i.text\n",
    "    brand_list3.append(brand3)\n",
    "brand_list3[0:40]"
   ]
  },
  {
   "cell_type": "code",
   "execution_count": null,
   "id": "6c673b46",
   "metadata": {},
   "outputs": [],
   "source": [
    "product_tags3=driver.find_elements_by_xpath(\"//a[@class='IRpwTa']\")\n",
    "product_tags3[0:40]"
   ]
  },
  {
   "cell_type": "code",
   "execution_count": null,
   "id": "d2e78cd0",
   "metadata": {},
   "outputs": [],
   "source": [
    "for i in product_tags3:\n",
    "    product3=i.text\n",
    "    product_list3.append(product3)\n",
    "product_list3[0:40]"
   ]
  },
  {
   "cell_type": "code",
   "execution_count": null,
   "id": "760de613",
   "metadata": {},
   "outputs": [],
   "source": [
    "price_tags3=driver.find_elements_by_xpath(\"//div[@class='_30jeq3']\")\n",
    "price_tags3[0:40]"
   ]
  },
  {
   "cell_type": "code",
   "execution_count": null,
   "id": "a3cd8eeb",
   "metadata": {},
   "outputs": [],
   "source": [
    "for i in price_tags3:\n",
    "    price3=i.text\n",
    "    price_list3.append(price3)\n",
    "price_list3[0:40]"
   ]
  },
  {
   "cell_type": "code",
   "execution_count": null,
   "id": "8d8fc73e",
   "metadata": {},
   "outputs": [],
   "source": [
    "df3=pd.DataFrame({})\n",
    "df3['Brand3']=brand_list3[0:33]\n",
    "df3['Product3']=product_list3[0:33]\n",
    "df3['Price3']=price_list3[0:33]"
   ]
  },
  {
   "cell_type": "code",
   "execution_count": null,
   "id": "253f1208",
   "metadata": {},
   "outputs": [],
   "source": [
    "df3"
   ]
  },
  {
   "cell_type": "code",
   "execution_count": null,
   "id": "5d0ae491",
   "metadata": {},
   "outputs": [],
   "source": []
  },
  {
   "cell_type": "markdown",
   "id": "4902073c",
   "metadata": {},
   "source": [
    "# Scrape First 100 shoes data in https://www.myntra.com/shoes"
   ]
  },
  {
   "cell_type": "code",
   "execution_count": null,
   "id": "df12594f",
   "metadata": {},
   "outputs": [],
   "source": [
    "!pip install selenium"
   ]
  },
  {
   "cell_type": "code",
   "execution_count": null,
   "id": "0c29dbdb",
   "metadata": {},
   "outputs": [],
   "source": [
    "import selenium\n",
    "import pandas as pd\n",
    "from selenium import webdriver\n",
    "import warnings\n",
    "warnings.filterwarnings('ignore')\n",
    "import time"
   ]
  },
  {
   "cell_type": "code",
   "execution_count": null,
   "id": "a3acaa29",
   "metadata": {},
   "outputs": [],
   "source": [
    "driver=webdriver.Chrome('chromedriver.exe')"
   ]
  },
  {
   "cell_type": "code",
   "execution_count": null,
   "id": "f987ba3d",
   "metadata": {},
   "outputs": [],
   "source": [
    "driver.get('https://www.myntra.com/shoes')"
   ]
  },
  {
   "cell_type": "code",
   "execution_count": null,
   "id": "f1acf1f8",
   "metadata": {},
   "outputs": [],
   "source": [
    "price_filter=driver.find_element_by_xpath(\"/html/body/div[2]/div/div[1]/main/div[3]/div[1]/section/div/div[5]/ul/li[2]/label\")\n",
    "price_filter.click()"
   ]
  },
  {
   "cell_type": "code",
   "execution_count": null,
   "id": "7b9334a0",
   "metadata": {},
   "outputs": [],
   "source": [
    "color_filter=driver.find_element_by_xpath(\"/html/body/div[2]/div/div[1]/main/div[3]/div[1]/section/div/div[6]/ul/li[1]/label\")\n",
    "color_filter.click()"
   ]
  },
  {
   "cell_type": "code",
   "execution_count": null,
   "id": "f5ada8e0",
   "metadata": {},
   "outputs": [],
   "source": [
    "brand_list1=[]\n",
    "shoe_descrp_list1=[]\n",
    "price_list1=[]"
   ]
  },
  {
   "cell_type": "code",
   "execution_count": null,
   "id": "96f965ba",
   "metadata": {},
   "outputs": [],
   "source": [
    "brand_tags1=driver.find_elements_by_xpath(\"//h3[@class='product-brand']\")\n",
    "brand_tags1[0:50]"
   ]
  },
  {
   "cell_type": "code",
   "execution_count": null,
   "id": "ec075ad7",
   "metadata": {},
   "outputs": [],
   "source": [
    "for i in brand_tags1:\n",
    "    brand1=i.text\n",
    "    brand_list1.append(brand1)\n",
    "brand_list1[0:50]"
   ]
  },
  {
   "cell_type": "code",
   "execution_count": null,
   "id": "d3ee6439",
   "metadata": {},
   "outputs": [],
   "source": [
    "shoe_tags1=driver.find_elements_by_xpath(\"//h4[@class='product-product']\")\n",
    "shoe_tags1[0:50]"
   ]
  },
  {
   "cell_type": "code",
   "execution_count": null,
   "id": "92646c10",
   "metadata": {},
   "outputs": [],
   "source": [
    "for i in shoe_tags1:\n",
    "    shoe1=i.text\n",
    "    shoe_descrp_list1.append(shoe1)\n",
    "shoe_descrp_list1[0:50]"
   ]
  },
  {
   "cell_type": "code",
   "execution_count": null,
   "id": "b2ae1233",
   "metadata": {},
   "outputs": [],
   "source": [
    "price_tags1=driver.find_elements_by_xpath(\"//div[@class='product-price']\")\n",
    "price_tags1[0:50]"
   ]
  },
  {
   "cell_type": "code",
   "execution_count": null,
   "id": "9a8ca54f",
   "metadata": {},
   "outputs": [],
   "source": [
    "for i in price_tags1:\n",
    "    price1=i.text\n",
    "    price_list1.append(price1)\n",
    "price_list1[0:50]"
   ]
  },
  {
   "cell_type": "code",
   "execution_count": null,
   "id": "c48fc599",
   "metadata": {},
   "outputs": [],
   "source": [
    "brand_list2=[]\n",
    "shoe_descrp_list2=[]\n",
    "price_list2=[]"
   ]
  },
  {
   "cell_type": "code",
   "execution_count": null,
   "id": "47942f94",
   "metadata": {},
   "outputs": [],
   "source": [
    "next_button=driver.find_element_by_xpath(\"/html/body/div[2]/div/div[1]/main/div[3]/div[2]/div/div[2]/section/div[2]/ul/li[3]/a\")\n",
    "next_button.click()"
   ]
  },
  {
   "cell_type": "code",
   "execution_count": null,
   "id": "af15834a",
   "metadata": {},
   "outputs": [],
   "source": [
    "brand_tags2=driver.find_elements_by_xpath(\"//h3[@class='product-brand']\")\n",
    "brand_tags2[0:50]"
   ]
  },
  {
   "cell_type": "code",
   "execution_count": null,
   "id": "ceef7f92",
   "metadata": {},
   "outputs": [],
   "source": [
    "for i in brand_tags2:\n",
    "    brand2=i.text\n",
    "    brand_list2.append(brand2)\n",
    "brand_list2[0:50]"
   ]
  },
  {
   "cell_type": "code",
   "execution_count": null,
   "id": "647e3d57",
   "metadata": {},
   "outputs": [],
   "source": [
    "shoe_tags2=driver.find_elements_by_xpath(\"//h4[@class='product-product']\")\n",
    "shoe_tags2[0:50]"
   ]
  },
  {
   "cell_type": "code",
   "execution_count": null,
   "id": "eee1ffb0",
   "metadata": {},
   "outputs": [],
   "source": [
    "for i in shoe_tags2:\n",
    "    shoe2=i.text\n",
    "    shoe_descrp_list2.append(shoe2)\n",
    "shoe_descrp_list2[0:50]"
   ]
  },
  {
   "cell_type": "code",
   "execution_count": null,
   "id": "4abbab86",
   "metadata": {},
   "outputs": [],
   "source": [
    "price_tags2=driver.find_elements_by_xpath(\"//div[@class='product-price']\")\n",
    "price_tags2[0:50]"
   ]
  },
  {
   "cell_type": "code",
   "execution_count": null,
   "id": "e691d708",
   "metadata": {},
   "outputs": [],
   "source": [
    "for i in price_tags2:\n",
    "    price2=i.text\n",
    "    price_list2.append(price2)\n",
    "price_list2[0:50]"
   ]
  },
  {
   "cell_type": "markdown",
   "id": "73b14514",
   "metadata": {},
   "source": [
    "# Scrape first 10 laptops data in amazon.com"
   ]
  },
  {
   "cell_type": "code",
   "execution_count": null,
   "id": "09cedbba",
   "metadata": {},
   "outputs": [],
   "source": [
    "!pip install selenium"
   ]
  },
  {
   "cell_type": "code",
   "execution_count": null,
   "id": "c99fff98",
   "metadata": {},
   "outputs": [],
   "source": [
    "import selenium\n",
    "import pandas as pd\n",
    "from selenium import webdriver\n",
    "import warnings\n",
    "warnings.filterwarnings('ignore')\n",
    "import time "
   ]
  },
  {
   "cell_type": "code",
   "execution_count": null,
   "id": "0204df3c",
   "metadata": {},
   "outputs": [],
   "source": [
    "driver=webdriver.Chrome('chromedriver.exe')"
   ]
  },
  {
   "cell_type": "code",
   "execution_count": null,
   "id": "c48e3df8",
   "metadata": {},
   "outputs": [],
   "source": [
    "driver.get('https://www.amazon.in/')"
   ]
  },
  {
   "cell_type": "code",
   "execution_count": null,
   "id": "36da1f5b",
   "metadata": {},
   "outputs": [],
   "source": [
    "search_field_product=driver.find_element_by_xpath(\"/html/body/div[1]/header/div/div[1]/div[2]/div/form/div[2]/div[1]/input\")\n",
    "search_field_product.send_keys(\"Laptop\")"
   ]
  },
  {
   "cell_type": "code",
   "execution_count": null,
   "id": "cc934348",
   "metadata": {},
   "outputs": [],
   "source": [
    "search_button=driver.find_element_by_xpath(\"/html/body/div[1]/header/div/div[1]/div[2]/div/form/div[3]/div/span/input\")\n",
    "search_button.click()"
   ]
  },
  {
   "cell_type": "code",
   "execution_count": null,
   "id": "e5d44cdf",
   "metadata": {},
   "outputs": [],
   "source": [
    "cpu_type_filter1=driver.find_element_by_xpath(\"/html/body/div[2]/div[2]/div[1]/div[2]/div/div[3]/span/div[1]/div/div/div[6]/ul[4]/li[12]/span/a/span\")\n",
    "cpu_type_filter1.click()"
   ]
  },
  {
   "cell_type": "code",
   "execution_count": null,
   "id": "1d276df0",
   "metadata": {},
   "outputs": [],
   "source": [
    "title_list1=[]\n",
    "rating_list1=[]\n",
    "price_list1=[]"
   ]
  },
  {
   "cell_type": "code",
   "execution_count": null,
   "id": "f75da522",
   "metadata": {},
   "outputs": [],
   "source": [
    "title_tags1=driver.find_elements_by_xpath(\"//h2[@class='a-size-mini a-spacing-none a-color-base s-line-clamp-2']\")\n",
    "title_tags1[0:10]"
   ]
  },
  {
   "cell_type": "code",
   "execution_count": null,
   "id": "ad3d51d8",
   "metadata": {},
   "outputs": [],
   "source": [
    "for i in title_tags1:\n",
    "    title1=i.text\n",
    "    title_list1.append(title1)\n",
    "title_list1[0:10]"
   ]
  },
  {
   "cell_type": "code",
   "execution_count": null,
   "id": "6f18ea27",
   "metadata": {},
   "outputs": [],
   "source": [
    "rating_tags1=driver.find_elements_by_xpath(\"//span[@class='a-icon-alt']\")\n",
    "rating_tags1[0:10]"
   ]
  },
  {
   "cell_type": "code",
   "execution_count": null,
   "id": "44c45962",
   "metadata": {},
   "outputs": [],
   "source": [
    "for i in rating_tags1:\n",
    "    rating1=i.text\n",
    "    rating_list1.append(rating1)\n",
    "rating_list1[0:10]"
   ]
  },
  {
   "cell_type": "code",
   "execution_count": null,
   "id": "531ce5ce",
   "metadata": {},
   "outputs": [],
   "source": [
    "price_tags1=driver.find_elements_by_xpath(\"//span[@class='a-price-whole']\")\n",
    "price_tags1[0:10]"
   ]
  },
  {
   "cell_type": "code",
   "execution_count": null,
   "id": "7402892a",
   "metadata": {},
   "outputs": [],
   "source": [
    "for i in price_tags1:\n",
    "    price1=i.text\n",
    "    price_list1.append(price1)\n",
    "price_list1[0:10]"
   ]
  },
  {
   "cell_type": "code",
   "execution_count": null,
   "id": "6b6961c3",
   "metadata": {},
   "outputs": [],
   "source": [
    "cpu_type_filter2=driver.find_element_by_xpath(\"/html/body/div[2]/div[2]/div[1]/div[2]/div/div[3]/span/div[1]/div/div/div[6]/ul[4]/li[12]/span/a/span\")\n",
    "cpu_type_filter2.click()"
   ]
  },
  {
   "cell_type": "code",
   "execution_count": null,
   "id": "51ffc572",
   "metadata": {},
   "outputs": [],
   "source": [
    "title_list2=[]\n",
    "rating_list2=[]\n",
    "price_list2=[]"
   ]
  },
  {
   "cell_type": "code",
   "execution_count": null,
   "id": "24d674d5",
   "metadata": {},
   "outputs": [],
   "source": [
    "title_tags2=driver.find_elements_by_xpath(\"//h2[@class='a-size-mini a-spacing-none a-color-base s-line-clamp-2']\")\n",
    "title_tags2[0:10]"
   ]
  },
  {
   "cell_type": "code",
   "execution_count": null,
   "id": "af239fa4",
   "metadata": {},
   "outputs": [],
   "source": [
    "for i in title_tags2:\n",
    "    title2=i.text\n",
    "    title_list2.append(title2)\n",
    "title_list2[0:10]"
   ]
  },
  {
   "cell_type": "code",
   "execution_count": null,
   "id": "3bab570d",
   "metadata": {},
   "outputs": [],
   "source": [
    "rating_tags2=driver.find_elements_by_xpath(\"//span[@class='a-icon-alt']\")\n",
    "rating_tags2[0:10]"
   ]
  },
  {
   "cell_type": "code",
   "execution_count": null,
   "id": "70fde2fe",
   "metadata": {},
   "outputs": [],
   "source": [
    "for i in rating_tags2:\n",
    "    rating2=i.text\n",
    "    rating_list2.append(rating2)\n",
    "rating_list2[0:10]"
   ]
  },
  {
   "cell_type": "code",
   "execution_count": null,
   "id": "ee96949a",
   "metadata": {},
   "outputs": [],
   "source": [
    "price_tags2=driver.find_elements_by_xpath(\"//span[@class='a-price-whole']\")\n",
    "price_tags2[0:10]"
   ]
  },
  {
   "cell_type": "code",
   "execution_count": null,
   "id": "e2b069b5",
   "metadata": {},
   "outputs": [],
   "source": [
    "for i in price_tags2:\n",
    "    price2=i.text\n",
    "    price_list2.append(price2)\n",
    "price_list2[0:10]"
   ]
  },
  {
   "cell_type": "code",
   "execution_count": null,
   "id": "47bc474e",
   "metadata": {},
   "outputs": [],
   "source": []
  },
  {
   "cell_type": "code",
   "execution_count": null,
   "id": "36495055",
   "metadata": {},
   "outputs": [],
   "source": []
  },
  {
   "cell_type": "code",
   "execution_count": null,
   "id": "517f6f27",
   "metadata": {},
   "outputs": [],
   "source": []
  },
  {
   "cell_type": "code",
   "execution_count": null,
   "id": "9a2cf365",
   "metadata": {},
   "outputs": [],
   "source": []
  },
  {
   "cell_type": "code",
   "execution_count": null,
   "id": "b3d38f9a",
   "metadata": {},
   "outputs": [],
   "source": []
  },
  {
   "cell_type": "code",
   "execution_count": null,
   "id": "f6393fcb",
   "metadata": {},
   "outputs": [],
   "source": []
  },
  {
   "cell_type": "code",
   "execution_count": null,
   "id": "a0622ee8",
   "metadata": {},
   "outputs": [],
   "source": []
  },
  {
   "cell_type": "code",
   "execution_count": null,
   "id": "4d7a3a9e",
   "metadata": {},
   "outputs": [],
   "source": []
  },
  {
   "cell_type": "code",
   "execution_count": null,
   "id": "4d15ded3",
   "metadata": {},
   "outputs": [],
   "source": []
  },
  {
   "cell_type": "code",
   "execution_count": null,
   "id": "02981287",
   "metadata": {},
   "outputs": [],
   "source": []
  },
  {
   "cell_type": "code",
   "execution_count": null,
   "id": "b4209c6c",
   "metadata": {},
   "outputs": [],
   "source": []
  },
  {
   "cell_type": "code",
   "execution_count": null,
   "id": "1beeb7f5",
   "metadata": {},
   "outputs": [],
   "source": []
  },
  {
   "cell_type": "code",
   "execution_count": null,
   "id": "854af668",
   "metadata": {},
   "outputs": [],
   "source": []
  },
  {
   "cell_type": "code",
   "execution_count": null,
   "id": "ed6bcb1f",
   "metadata": {},
   "outputs": [],
   "source": []
  },
  {
   "cell_type": "code",
   "execution_count": null,
   "id": "afb43b86",
   "metadata": {},
   "outputs": [],
   "source": []
  },
  {
   "cell_type": "code",
   "execution_count": null,
   "id": "1da1ac6f",
   "metadata": {},
   "outputs": [],
   "source": []
  },
  {
   "cell_type": "code",
   "execution_count": null,
   "id": "1552f915",
   "metadata": {},
   "outputs": [],
   "source": []
  },
  {
   "cell_type": "code",
   "execution_count": null,
   "id": "311d185c",
   "metadata": {},
   "outputs": [],
   "source": []
  },
  {
   "cell_type": "code",
   "execution_count": null,
   "id": "2fe6bdbd",
   "metadata": {},
   "outputs": [],
   "source": []
  },
  {
   "cell_type": "code",
   "execution_count": null,
   "id": "dfa8bf64",
   "metadata": {},
   "outputs": [],
   "source": []
  },
  {
   "cell_type": "code",
   "execution_count": null,
   "id": "db53ae08",
   "metadata": {},
   "outputs": [],
   "source": []
  },
  {
   "cell_type": "code",
   "execution_count": null,
   "id": "becad31a",
   "metadata": {},
   "outputs": [],
   "source": []
  },
  {
   "cell_type": "code",
   "execution_count": null,
   "id": "149fc3dc",
   "metadata": {},
   "outputs": [],
   "source": []
  },
  {
   "cell_type": "code",
   "execution_count": null,
   "id": "1c969410",
   "metadata": {},
   "outputs": [],
   "source": []
  },
  {
   "cell_type": "code",
   "execution_count": null,
   "id": "22439681",
   "metadata": {},
   "outputs": [],
   "source": []
  },
  {
   "cell_type": "code",
   "execution_count": null,
   "id": "c870bbfa",
   "metadata": {},
   "outputs": [],
   "source": []
  },
  {
   "cell_type": "code",
   "execution_count": null,
   "id": "5090b60e",
   "metadata": {},
   "outputs": [],
   "source": []
  },
  {
   "cell_type": "code",
   "execution_count": null,
   "id": "75ec377f",
   "metadata": {},
   "outputs": [],
   "source": []
  },
  {
   "cell_type": "code",
   "execution_count": null,
   "id": "f839c362",
   "metadata": {},
   "outputs": [],
   "source": []
  },
  {
   "cell_type": "code",
   "execution_count": null,
   "id": "5b663e5d",
   "metadata": {},
   "outputs": [],
   "source": []
  },
  {
   "cell_type": "code",
   "execution_count": null,
   "id": "da92e884",
   "metadata": {},
   "outputs": [],
   "source": []
  },
  {
   "cell_type": "code",
   "execution_count": null,
   "id": "7a17c25e",
   "metadata": {},
   "outputs": [],
   "source": []
  },
  {
   "cell_type": "code",
   "execution_count": null,
   "id": "4f0cfa18",
   "metadata": {},
   "outputs": [],
   "source": []
  },
  {
   "cell_type": "code",
   "execution_count": null,
   "id": "d33a443b",
   "metadata": {},
   "outputs": [],
   "source": []
  },
  {
   "cell_type": "code",
   "execution_count": null,
   "id": "18427b61",
   "metadata": {},
   "outputs": [],
   "source": []
  },
  {
   "cell_type": "code",
   "execution_count": null,
   "id": "3ca693d0",
   "metadata": {},
   "outputs": [],
   "source": []
  },
  {
   "cell_type": "code",
   "execution_count": null,
   "id": "4c543b6e",
   "metadata": {},
   "outputs": [],
   "source": []
  },
  {
   "cell_type": "code",
   "execution_count": null,
   "id": "77c0534a",
   "metadata": {},
   "outputs": [],
   "source": []
  },
  {
   "cell_type": "code",
   "execution_count": null,
   "id": "fa58044f",
   "metadata": {},
   "outputs": [],
   "source": []
  },
  {
   "cell_type": "code",
   "execution_count": null,
   "id": "99500efa",
   "metadata": {},
   "outputs": [],
   "source": []
  },
  {
   "cell_type": "code",
   "execution_count": null,
   "id": "2dcd7c80",
   "metadata": {},
   "outputs": [],
   "source": []
  },
  {
   "cell_type": "code",
   "execution_count": null,
   "id": "4d3c6a46",
   "metadata": {},
   "outputs": [],
   "source": []
  },
  {
   "cell_type": "code",
   "execution_count": null,
   "id": "f1af33a5",
   "metadata": {},
   "outputs": [],
   "source": []
  },
  {
   "cell_type": "code",
   "execution_count": null,
   "id": "019b746c",
   "metadata": {},
   "outputs": [],
   "source": []
  },
  {
   "cell_type": "code",
   "execution_count": null,
   "id": "f733c42f",
   "metadata": {},
   "outputs": [],
   "source": []
  },
  {
   "cell_type": "code",
   "execution_count": null,
   "id": "957bb53d",
   "metadata": {},
   "outputs": [],
   "source": []
  },
  {
   "cell_type": "code",
   "execution_count": null,
   "id": "a563c894",
   "metadata": {},
   "outputs": [],
   "source": []
  },
  {
   "cell_type": "code",
   "execution_count": null,
   "id": "91986c90",
   "metadata": {},
   "outputs": [],
   "source": []
  },
  {
   "cell_type": "code",
   "execution_count": null,
   "id": "da7a7b2a",
   "metadata": {},
   "outputs": [],
   "source": []
  },
  {
   "cell_type": "code",
   "execution_count": null,
   "id": "f7c622a3",
   "metadata": {},
   "outputs": [],
   "source": []
  },
  {
   "cell_type": "code",
   "execution_count": null,
   "id": "3ec4bc5e",
   "metadata": {},
   "outputs": [],
   "source": []
  },
  {
   "cell_type": "code",
   "execution_count": null,
   "id": "df70e5d6",
   "metadata": {},
   "outputs": [],
   "source": []
  },
  {
   "cell_type": "code",
   "execution_count": null,
   "id": "b546a057",
   "metadata": {},
   "outputs": [],
   "source": []
  },
  {
   "cell_type": "code",
   "execution_count": null,
   "id": "ed4c59cc",
   "metadata": {},
   "outputs": [],
   "source": []
  },
  {
   "cell_type": "code",
   "execution_count": null,
   "id": "96d8fa6d",
   "metadata": {},
   "outputs": [],
   "source": []
  },
  {
   "cell_type": "code",
   "execution_count": null,
   "id": "b62149f7",
   "metadata": {},
   "outputs": [],
   "source": []
  },
  {
   "cell_type": "code",
   "execution_count": null,
   "id": "cb3637b6",
   "metadata": {},
   "outputs": [],
   "source": []
  },
  {
   "cell_type": "code",
   "execution_count": null,
   "id": "a83f344c",
   "metadata": {},
   "outputs": [],
   "source": []
  },
  {
   "cell_type": "code",
   "execution_count": null,
   "id": "fefb9edd",
   "metadata": {},
   "outputs": [],
   "source": []
  },
  {
   "cell_type": "code",
   "execution_count": null,
   "id": "243fbe79",
   "metadata": {},
   "outputs": [],
   "source": []
  },
  {
   "cell_type": "code",
   "execution_count": null,
   "id": "4e50684e",
   "metadata": {},
   "outputs": [],
   "source": []
  },
  {
   "cell_type": "code",
   "execution_count": null,
   "id": "bcf0ddaa",
   "metadata": {},
   "outputs": [],
   "source": []
  },
  {
   "cell_type": "code",
   "execution_count": null,
   "id": "4b1fbed9",
   "metadata": {},
   "outputs": [],
   "source": []
  },
  {
   "cell_type": "code",
   "execution_count": null,
   "id": "8efe8428",
   "metadata": {},
   "outputs": [],
   "source": []
  },
  {
   "cell_type": "code",
   "execution_count": null,
   "id": "af3d4ab4",
   "metadata": {},
   "outputs": [],
   "source": []
  },
  {
   "cell_type": "code",
   "execution_count": null,
   "id": "85193a96",
   "metadata": {},
   "outputs": [],
   "source": []
  },
  {
   "cell_type": "code",
   "execution_count": null,
   "id": "55bda7ca",
   "metadata": {},
   "outputs": [],
   "source": []
  },
  {
   "cell_type": "code",
   "execution_count": null,
   "id": "1c3b3009",
   "metadata": {},
   "outputs": [],
   "source": []
  },
  {
   "cell_type": "code",
   "execution_count": null,
   "id": "4aead42e",
   "metadata": {},
   "outputs": [],
   "source": []
  },
  {
   "cell_type": "code",
   "execution_count": null,
   "id": "2ee6a48d",
   "metadata": {},
   "outputs": [],
   "source": []
  },
  {
   "cell_type": "code",
   "execution_count": null,
   "id": "694bc082",
   "metadata": {},
   "outputs": [],
   "source": []
  },
  {
   "cell_type": "code",
   "execution_count": null,
   "id": "6fa2874a",
   "metadata": {},
   "outputs": [],
   "source": []
  },
  {
   "cell_type": "code",
   "execution_count": null,
   "id": "ed564d61",
   "metadata": {},
   "outputs": [],
   "source": []
  },
  {
   "cell_type": "code",
   "execution_count": null,
   "id": "24742a9d",
   "metadata": {},
   "outputs": [],
   "source": []
  },
  {
   "cell_type": "code",
   "execution_count": null,
   "id": "96036951",
   "metadata": {},
   "outputs": [],
   "source": []
  },
  {
   "cell_type": "code",
   "execution_count": null,
   "id": "2d444c42",
   "metadata": {},
   "outputs": [],
   "source": []
  },
  {
   "cell_type": "code",
   "execution_count": null,
   "id": "99e54905",
   "metadata": {},
   "outputs": [],
   "source": []
  },
  {
   "cell_type": "code",
   "execution_count": null,
   "id": "ad7d098b",
   "metadata": {},
   "outputs": [],
   "source": []
  },
  {
   "cell_type": "code",
   "execution_count": null,
   "id": "d59fd699",
   "metadata": {},
   "outputs": [],
   "source": []
  },
  {
   "cell_type": "code",
   "execution_count": null,
   "id": "4b33d892",
   "metadata": {},
   "outputs": [],
   "source": []
  },
  {
   "cell_type": "code",
   "execution_count": null,
   "id": "058148bb",
   "metadata": {},
   "outputs": [],
   "source": []
  },
  {
   "cell_type": "code",
   "execution_count": null,
   "id": "0e83ea28",
   "metadata": {},
   "outputs": [],
   "source": []
  }
 ],
 "metadata": {
  "kernelspec": {
   "display_name": "Python 3 (ipykernel)",
   "language": "python",
   "name": "python3"
  },
  "language_info": {
   "codemirror_mode": {
    "name": "ipython",
    "version": 3
   },
   "file_extension": ".py",
   "mimetype": "text/x-python",
   "name": "python",
   "nbconvert_exporter": "python",
   "pygments_lexer": "ipython3",
   "version": "3.9.7"
  }
 },
 "nbformat": 4,
 "nbformat_minor": 5
}
